{
 "cells": [
  {
   "cell_type": "markdown",
   "id": "2274d424",
   "metadata": {},
   "source": [
    "> ## **Assignment - Numpy Array Operations** \n",
    ">\n",
    "> The objective of this assignment is to develop a solid understanding of Numpy array operations. In this assignment you will:\n",
    "> \n",
    "> 1. Pick 5 interesting Numpy array functions by going through the documentation: https://numpy.org/doc/stable/reference/routines.html \n",
    "> 2. Run and modify this Jupyter notebook to illustrate their usage (some explanation and 3 examples for each function). Use your imagination to come up with interesting and unique examples.\n",
    "> 3. Upload this notebook to your Jovian profile using `jovian.commit` and make a submission here: https://jovian.ai/learn/zero-to-data-analyst-bootcamp/assignment/assignment-4-exploring-numpy-functions\n",
    "> 4. (Optional) Share your notebook online (on Twitter, LinkedIn, Facebook) and with the course community.\n",
    "> 5. (Optional) Check out the notebooks shared by other participants and give feedback & appreciation.\n",
    ">\n",
    "> Try to give pick a theme for your assignment and give your notebook an interesting title e.g. \"All about Numpy array operations\", \"5 Numpy functions you didn't know you needed\", \"A beginner's guide to broadcasting in Numpy\", \"Interesting ways to create Numpy arrays\", \"Trigonometic functions in Numpy\", \"How to use Python for Linear Algebra\" etc.\n",
    ">\n",
    "> **NOTE**: Remove this cell containing explanations before submitting or sharing your notebook online - to make it more presentable.\n",
    "\n",
    "\n"
   ]
  },
  {
   "cell_type": "markdown",
   "id": "1f237d6b",
   "metadata": {},
   "source": [
    "# Numpy assignment\n",
    "\n",
    "Write a short introduction about Numpy and list the chosen functions. \n",
    "\n",
    "- sum() - adds the arrays\n",
    "- trim_zeros() - Removes Zeros\n",
    "- hstack() - Stacks arrarys\n",
    "- flip() - flip array\n",
    "- Arithemic operation in array \n",
    "\n",
    "The recommended way to run this notebook is to click the \"Run\" button at the top of this page, and select \"Run on Binder\". This will run the notebook on mybinder.org, a free online service for running Jupyter notebooks.\n",
    "\n",
    "![image](https://i.imgur.com/1G0V3uG.png)"
   ]
  },
  {
   "cell_type": "code",
   "execution_count": 1,
   "id": "975a2f35",
   "metadata": {},
   "outputs": [],
   "source": [
    "!pip install jovian --upgrade -q"
   ]
  },
  {
   "cell_type": "code",
   "execution_count": 1,
   "id": "f46a66c9",
   "metadata": {},
   "outputs": [],
   "source": [
    "import jovian"
   ]
  },
  {
   "cell_type": "code",
   "execution_count": 2,
   "id": "ecb70f1a",
   "metadata": {},
   "outputs": [
    {
     "data": {
      "application/javascript": [
       "window.require && require([\"base/js/namespace\"],function(Jupyter){Jupyter.notebook.save_checkpoint()})"
      ],
      "text/plain": [
       "<IPython.core.display.Javascript object>"
      ]
     },
     "metadata": {},
     "output_type": "display_data"
    },
    {
     "name": "stdout",
     "output_type": "stream",
     "text": [
      "[jovian] Updating notebook \"rakesh-rajagopalachary/zerotoanalyst-numpy-array-operations\" on https://jovian.ai/\u001b[0m\n",
      "[jovian] Committed successfully! https://jovian.ai/rakesh-rajagopalachary/zerotoanalyst-numpy-array-operations\u001b[0m\n"
     ]
    },
    {
     "data": {
      "text/plain": [
       "'https://jovian.ai/rakesh-rajagopalachary/zerotoanalyst-numpy-array-operations'"
      ]
     },
     "execution_count": 2,
     "metadata": {},
     "output_type": "execute_result"
    }
   ],
   "source": [
    "jovian.commit(project='zerotoanalyst-numpy-array-operations')"
   ]
  },
  {
   "cell_type": "markdown",
   "id": "b09b4a9b",
   "metadata": {},
   "source": [
    "Let's begin by importing Numpy and listing out the functions covered in this notebook."
   ]
  },
  {
   "cell_type": "code",
   "execution_count": 3,
   "id": "18728a40",
   "metadata": {},
   "outputs": [],
   "source": [
    "import numpy as np"
   ]
  },
  {
   "cell_type": "markdown",
   "id": "cc2cda13",
   "metadata": {},
   "source": [
    "## Function 1 - np.sum()\n",
    "The NumPy sum function sums up the elements of an array. It just takes the elements within a NumPy array (an ndarray object) and adds them together.\n",
    "\n",
    "Having said that, it can get a little more complicated. It’s possible to also add up the rows or add up the columns of an array. This will produce a new array object (instead of producing a scalar sum of the elements).\n",
    "\n",
    "Like many of the functions of NumPy, the np.sum function is pretty straightforward syntactically.\n",
    "We typically call the function using the syntax np.sum(). Note that this assumes that you’ve imported numpy using the code import numpy as np.\n",
    "\n"
   ]
  },
  {
   "cell_type": "code",
   "execution_count": 5,
   "id": "272671b4",
   "metadata": {},
   "outputs": [
    {
     "name": "stdout",
     "output_type": "stream",
     "text": [
      "269\n"
     ]
    }
   ],
   "source": [
    "# Example 1 \n",
    "arr3 = np.array([\n",
    "    [[11, 12, 8, 19], \n",
    "     [13, 21, 4, 19]], \n",
    "    \n",
    "    [[5, 1, 7, 21], \n",
    "     [13, 9, 6, 1]], \n",
    "    \n",
    "    [[9, 32, 18, -5],      \n",
    "     [15, 25, 11, -6]]])\n",
    "print(arr3.sum())"
   ]
  },
  {
   "cell_type": "markdown",
   "id": "0b74b40d",
   "metadata": {},
   "source": [
    "We have found the sum of the entire array ar3 in the given example"
   ]
  },
  {
   "cell_type": "code",
   "execution_count": 21,
   "id": "a8e6407e",
   "metadata": {},
   "outputs": [
    {
     "name": "stdout",
     "output_type": "stream",
     "text": [
      "[15 25 11 -6]\n",
      "45\n"
     ]
    }
   ],
   "source": [
    "# Example 2 - working\n",
    "arr3 = np.array([\n",
    "    [[11, 12, 8, 19], \n",
    "     [13, 21, 4, 19]], \n",
    "    \n",
    "    [[5, 1, 7, 21], \n",
    "     [13, 9, 6, 1]], \n",
    "    \n",
    "    [[9, 32, 18, -5],      \n",
    "     [15, 25, 11, -6]]])\n",
    "print(arr3[2,1])\n",
    "print(arr3[2, 1].sum())"
   ]
  },
  {
   "cell_type": "markdown",
   "id": "6c87236d",
   "metadata": {},
   "source": [
    "We are trying to find the sum of specific column in the given matrix"
   ]
  },
  {
   "cell_type": "code",
   "execution_count": 30,
   "id": "b58088aa",
   "metadata": {},
   "outputs": [
    {
     "ename": "IndexError",
     "evalue": "index 2 is out of bounds for axis 1 with size 2",
     "output_type": "error",
     "traceback": [
      "\u001b[1;31m---------------------------------------------------------------------------\u001b[0m",
      "\u001b[1;31mIndexError\u001b[0m                                Traceback (most recent call last)",
      "\u001b[1;32m~\\AppData\\Local\\Temp/ipykernel_17128/4100547750.py\u001b[0m in \u001b[0;36m<module>\u001b[1;34m\u001b[0m\n\u001b[0;32m      9\u001b[0m     [[9, 32, 18, -5],      \n\u001b[0;32m     10\u001b[0m      [15, 25, 11, -6]]])\n\u001b[1;32m---> 11\u001b[1;33m \u001b[0mprint\u001b[0m\u001b[1;33m(\u001b[0m\u001b[0marr3\u001b[0m\u001b[1;33m[\u001b[0m\u001b[1;36m2\u001b[0m\u001b[1;33m,\u001b[0m \u001b[1;36m2\u001b[0m\u001b[1;33m]\u001b[0m\u001b[1;33m)\u001b[0m\u001b[1;33m\u001b[0m\u001b[1;33m\u001b[0m\u001b[0m\n\u001b[0m\u001b[0;32m     12\u001b[0m \u001b[0mprint\u001b[0m\u001b[1;33m(\u001b[0m\u001b[0marr3\u001b[0m\u001b[1;33m[\u001b[0m\u001b[1;36m2\u001b[0m\u001b[1;33m,\u001b[0m \u001b[1;36m2\u001b[0m\u001b[1;33m]\u001b[0m\u001b[1;33m.\u001b[0m\u001b[0msum\u001b[0m\u001b[1;33m(\u001b[0m\u001b[1;33m)\u001b[0m\u001b[1;33m)\u001b[0m\u001b[1;33m\u001b[0m\u001b[1;33m\u001b[0m\u001b[0m\n",
      "\u001b[1;31mIndexError\u001b[0m: index 2 is out of bounds for axis 1 with size 2"
     ]
    }
   ],
   "source": [
    "# Example 3 - breaking \n",
    "arr3 = np.array([\n",
    "    [[11, 12, 8, 19], \n",
    "     [13, 21, 4, 19]], \n",
    "    \n",
    "    [[5, 1, 7, 21], \n",
    "     [13, 9, 6, 1]], \n",
    "    \n",
    "    [[9, 32, 18, -5],      \n",
    "     [15, 25, 11, -6]]])\n",
    "print(arr3[2, 2])\n",
    "print(arr3[2, 2].sum())"
   ]
  },
  {
   "cell_type": "markdown",
   "id": "21cd529b",
   "metadata": {},
   "source": [
    "When we try to find the sum of a column which does not exist then It Breaks. "
   ]
  },
  {
   "cell_type": "markdown",
   "id": "620d5a1c",
   "metadata": {},
   "source": [
    "Some is a important tool which can be used to find sum of an entire array or sum of only specific parts in a given array. "
   ]
  },
  {
   "cell_type": "code",
   "execution_count": 31,
   "id": "61d1b09e",
   "metadata": {},
   "outputs": [
    {
     "data": {
      "application/javascript": [
       "window.require && require([\"base/js/namespace\"],function(Jupyter){Jupyter.notebook.save_checkpoint()})"
      ],
      "text/plain": [
       "<IPython.core.display.Javascript object>"
      ]
     },
     "metadata": {},
     "output_type": "display_data"
    },
    {
     "name": "stdout",
     "output_type": "stream",
     "text": [
      "[jovian] Updating notebook \"rakesh-rajagopalachary/zerotoanalyst-numpy-array-operations\" on https://jovian.ai/\u001b[0m\n",
      "[jovian] Committed successfully! https://jovian.ai/rakesh-rajagopalachary/zerotoanalyst-numpy-array-operations\u001b[0m\n"
     ]
    },
    {
     "data": {
      "text/plain": [
       "'https://jovian.ai/rakesh-rajagopalachary/zerotoanalyst-numpy-array-operations'"
      ]
     },
     "execution_count": 31,
     "metadata": {},
     "output_type": "execute_result"
    }
   ],
   "source": [
    "jovian.commit()"
   ]
  },
  {
   "cell_type": "markdown",
   "id": "b6da043f",
   "metadata": {},
   "source": [
    "## Function 2 - trim_zeros()\n",
    "\n",
    "numpy.trim_zeros function is used to trim the leading and/or trailing zeros from a 1-D array or sequence."
   ]
  },
  {
   "cell_type": "code",
   "execution_count": 34,
   "id": "baec10ce",
   "metadata": {},
   "outputs": [
    {
     "name": "stdout",
     "output_type": "stream",
     "text": [
      "(1, 5, 7, 0, 6, 2, 9, 0, 10)\n"
     ]
    }
   ],
   "source": [
    "# Example 1 - working\n",
    "arr3 = ((0, 0, 0, 0, 1, 5, 7, 0, 6, 2, 9, 0, 10, 0, 0))\n",
    "  \n",
    "# without trim parameter\n",
    "# returns an array without leading and trailing zeros \n",
    "  \n",
    "res = np.trim_zeros(arr3)\n",
    "print(res)"
   ]
  },
  {
   "cell_type": "markdown",
   "id": "3d104d4b",
   "metadata": {},
   "source": [
    "Removing zeros from front and back of a series"
   ]
  },
  {
   "cell_type": "code",
   "execution_count": 42,
   "id": "aa5d1c23",
   "metadata": {},
   "outputs": [
    {
     "name": "stdout",
     "output_type": "stream",
     "text": [
      "(1, 5, 7, 0, 6, 2, 9, 0, 10, 0, 0)\n",
      "(0, 0, 0, 0, 1, 5, 7, 0, 6, 2, 9, 0, 10)\n"
     ]
    }
   ],
   "source": [
    "# Example 2 - working\n",
    "Front =np.trim_zeros(arr3,trim='f')\n",
    "Back = np.trim_zeros(arr3,trim='b')\n",
    "print(Front)\n",
    "print(Back)"
   ]
  },
  {
   "cell_type": "markdown",
   "id": "d34d433f",
   "metadata": {},
   "source": [
    "Removing zeros from front and back of a series specifically"
   ]
  },
  {
   "cell_type": "code",
   "execution_count": 46,
   "id": "179ae33f",
   "metadata": {},
   "outputs": [
    {
     "data": {
      "text/plain": [
       "(0, 0, 0, 0, 1, 5, 7, 0, 6, 2, 9, 0, 10, 0, 0)"
      ]
     },
     "execution_count": 46,
     "metadata": {},
     "output_type": "execute_result"
    }
   ],
   "source": [
    "# Example 3 - breaking\n",
    "mid =np.trim_zeros(arr3,trim='m')\n",
    "mid"
   ]
  },
  {
   "cell_type": "markdown",
   "id": "fb051e81",
   "metadata": {},
   "source": [
    "Zeros in between the series cannot ne removed"
   ]
  },
  {
   "cell_type": "code",
   "execution_count": 45,
   "id": "2025f816",
   "metadata": {
    "scrolled": true
   },
   "outputs": [
    {
     "data": {
      "application/javascript": [
       "window.require && require([\"base/js/namespace\"],function(Jupyter){Jupyter.notebook.save_checkpoint()})"
      ],
      "text/plain": [
       "<IPython.core.display.Javascript object>"
      ]
     },
     "metadata": {},
     "output_type": "display_data"
    },
    {
     "name": "stdout",
     "output_type": "stream",
     "text": [
      "[jovian] Updating notebook \"rakesh-rajagopalachary/zerotoanalyst-numpy-array-operations\" on https://jovian.ai/\u001b[0m\n",
      "[jovian] Committed successfully! https://jovian.ai/rakesh-rajagopalachary/zerotoanalyst-numpy-array-operations\u001b[0m\n"
     ]
    },
    {
     "data": {
      "text/plain": [
       "'https://jovian.ai/rakesh-rajagopalachary/zerotoanalyst-numpy-array-operations'"
      ]
     },
     "execution_count": 45,
     "metadata": {},
     "output_type": "execute_result"
    }
   ],
   "source": [
    "jovian.commit()"
   ]
  },
  {
   "cell_type": "markdown",
   "id": "dd5eb073",
   "metadata": {},
   "source": [
    "## Function 3 - hstack()\n",
    "\n",
    "numpy.hstack() function is used to stack the sequence of input arrays horizontally (i.e. column wise) to make a single array."
   ]
  },
  {
   "cell_type": "code",
   "execution_count": 52,
   "id": "3635ccd9",
   "metadata": {},
   "outputs": [
    {
     "name": "stdout",
     "output_type": "stream",
     "text": [
      "[[0 1 2 3 4]\n",
      " [5 6 7 8 9]\n",
      " [1 1 1 1 1]\n",
      " [1 1 1 1 1]]\n"
     ]
    },
    {
     "data": {
      "text/plain": [
       "array([[ True,  True,  True,  True,  True,  True,  True,  True,  True,\n",
       "         True],\n",
       "       [ True,  True,  True,  True,  True,  True,  True,  True,  True,\n",
       "         True]])"
      ]
     },
     "execution_count": 52,
     "metadata": {},
     "output_type": "execute_result"
    }
   ],
   "source": [
    "# Example 1 - working\n",
    "a = [[0, 1, 2, 3, 4],\n",
    "    [5, 6, 7, 8, 9]]\n",
    "b = [[1, 1, 1, 1, 1],\n",
    "    [1, 1, 1, 1, 1]]\n",
    "c = [[0, 1, 2, 3, 4, 1, 1, 1, 1, 1],\n",
    "    [5, 6, 7, 8, 9, 1, 1, 1, 1, 1]]\n",
    "print(d)\n",
    "d=np.hstack([a,b])\n",
    "c==d"
   ]
  },
  {
   "cell_type": "markdown",
   "id": "cdb3d9b1",
   "metadata": {},
   "source": [
    "Stack is matching the output"
   ]
  },
  {
   "cell_type": "code",
   "execution_count": 53,
   "id": "017d0b19",
   "metadata": {},
   "outputs": [
    {
     "name": "stdout",
     "output_type": "stream",
     "text": [
      "[[0 1 2 3 4 1 1 1 1 1]\n",
      " [5 6 7 8 9 1 1 1 1 1]]\n"
     ]
    },
    {
     "data": {
      "text/plain": [
       "array([[ True,  True,  True,  True,  True,  True,  True,  True,  True,\n",
       "         True],\n",
       "       [ True,  True,  True,  True,  True,  True,  True,  True,  True,\n",
       "         True]])"
      ]
     },
     "execution_count": 53,
     "metadata": {},
     "output_type": "execute_result"
    }
   ],
   "source": [
    "# Example 2 - working\n",
    "a = [[0, 1, 2, 3, 4],\n",
    "    [5, 6, 7, 8, 9]]\n",
    "b = [[1, 1, 1, 1, 1],\n",
    "    [1, 1, 1, 1, 1]]\n",
    "c = [[0, 1, 2, 3, 4, 1, 1, 1, 1, 1],\n",
    "    [5, 6, 7, 8, 9, 1, 1, 1, 1, 1]]\n",
    "print(d)\n",
    "d=np.concatenate([a, b], axis=1)\n",
    "c==d"
   ]
  },
  {
   "cell_type": "markdown",
   "id": "0d6e96df",
   "metadata": {},
   "source": [
    "Output of both at hstack and concatenate are similar"
   ]
  },
  {
   "cell_type": "code",
   "execution_count": 51,
   "id": "0eb5329e",
   "metadata": {},
   "outputs": [
    {
     "name": "stdout",
     "output_type": "stream",
     "text": [
      "[[0 1 2 3 4]\n",
      " [5 6 7 8 9]\n",
      " [1 1 1 1 1]\n",
      " [1 1 1 1 1]]\n"
     ]
    },
    {
     "name": "stderr",
     "output_type": "stream",
     "text": [
      "C:\\Users\\admin\\AppData\\Local\\Temp/ipykernel_17128/125468920.py:10: DeprecationWarning: elementwise comparison failed; this will raise an error in the future.\n",
      "  c==d\n"
     ]
    },
    {
     "data": {
      "text/plain": [
       "False"
      ]
     },
     "execution_count": 51,
     "metadata": {},
     "output_type": "execute_result"
    }
   ],
   "source": [
    "# Example 3 - breaking\n",
    "a = [[0, 1, 2, 3, 4],\n",
    "    [5, 6, 7, 8, 9]]\n",
    "b = [[1, 1, 1, 1, 1],\n",
    "    [1, 1, 1, 1, 1]]\n",
    "c = [[0, 1, 2, 3, 4, 1, 1, 1, 1, 1],\n",
    "    [5, 6, 7, 8, 9, 1, 1, 1, 1, 1]]\n",
    "d=np.vstack([a,b])\n",
    "print(d)\n",
    "c==d"
   ]
  },
  {
   "cell_type": "markdown",
   "id": "f6c93bd8",
   "metadata": {},
   "source": [
    "In vstack the sequence of input array happens vertically"
   ]
  },
  {
   "cell_type": "markdown",
   "id": "5cc9d07f",
   "metadata": {},
   "source": [
    "Some closing comments about when to use this function."
   ]
  },
  {
   "cell_type": "code",
   "execution_count": 54,
   "id": "6993c7bb",
   "metadata": {},
   "outputs": [
    {
     "data": {
      "application/javascript": [
       "window.require && require([\"base/js/namespace\"],function(Jupyter){Jupyter.notebook.save_checkpoint()})"
      ],
      "text/plain": [
       "<IPython.core.display.Javascript object>"
      ]
     },
     "metadata": {},
     "output_type": "display_data"
    },
    {
     "name": "stdout",
     "output_type": "stream",
     "text": [
      "[jovian] Updating notebook \"rakesh-rajagopalachary/zerotoanalyst-numpy-array-operations\" on https://jovian.ai/\u001b[0m\n",
      "[jovian] Committed successfully! https://jovian.ai/rakesh-rajagopalachary/zerotoanalyst-numpy-array-operations\u001b[0m\n"
     ]
    },
    {
     "data": {
      "text/plain": [
       "'https://jovian.ai/rakesh-rajagopalachary/zerotoanalyst-numpy-array-operations'"
      ]
     },
     "execution_count": 54,
     "metadata": {},
     "output_type": "execute_result"
    }
   ],
   "source": [
    "jovian.commit()"
   ]
  },
  {
   "cell_type": "markdown",
   "id": "d647c8f9",
   "metadata": {},
   "source": [
    "## Function 4 - flip()\n",
    "\n",
    "The numpy.flip() function reverses the order of array elements along the specified axis, preserving the shape of the array.\n",
    "- Syntax: numpy.flip(array, axis)\n",
    "- array : [array_like]Array to be input \n",
    "- axis  : [integer]axis along which array \n",
    "        is reversed."
   ]
  },
  {
   "cell_type": "code",
   "execution_count": 55,
   "id": "85f62006",
   "metadata": {},
   "outputs": [
    {
     "name": "stdout",
     "output_type": "stream",
     "text": [
      "Original array : \n",
      " [[[0 1]\n",
      "  [2 3]]\n",
      "\n",
      " [[4 5]\n",
      "  [6 7]]]\n",
      "Flipped array : \n",
      " [[[4 5]\n",
      "  [6 7]]\n",
      "\n",
      " [[0 1]\n",
      "  [2 3]]]\n"
     ]
    }
   ],
   "source": [
    "# Example 1 - working\n",
    "# Python Program illustrating\n",
    "# numpy.flip() method\n",
    " \n",
    "import numpy as geek\n",
    " \n",
    "array = geek.arange(8).reshape((2,2,2))\n",
    "print(\"Original array : \\n\", array)\n",
    " \n",
    "print(\"Flipped array : \\n\", geek.flip(array, 0))"
   ]
  },
  {
   "cell_type": "markdown",
   "id": "ec5baefe",
   "metadata": {},
   "source": [
    "reversed array with shape preserved"
   ]
  },
  {
   "cell_type": "code",
   "execution_count": 59,
   "id": "287cbaeb",
   "metadata": {},
   "outputs": [
    {
     "name": "stdout",
     "output_type": "stream",
     "text": [
      "Original array : \n",
      " [[[ 0  1  2]\n",
      "  [ 3  4  5]]\n",
      "\n",
      " [[ 6  7  8]\n",
      "  [ 9 10 11]]]\n",
      "Flipped array : \n",
      " [[[ 6  7  8]\n",
      "  [ 9 10 11]]\n",
      "\n",
      " [[ 0  1  2]\n",
      "  [ 3  4  5]]]\n"
     ]
    }
   ],
   "source": [
    "# Example 2 - working\n",
    "array = geek.arange(12).reshape((2,2,3))\n",
    "print(\"Original array : \\n\", array)\n",
    " \n",
    "print(\"Flipped array : \\n\", geek.flip(array, 0))"
   ]
  },
  {
   "cell_type": "markdown",
   "id": "d109e9c6",
   "metadata": {},
   "source": [
    "reversed array with shape preserved"
   ]
  },
  {
   "cell_type": "code",
   "execution_count": 60,
   "id": "7721963f",
   "metadata": {},
   "outputs": [
    {
     "ename": "ValueError",
     "evalue": "cannot reshape array of size 12 into shape (2,2,2)",
     "output_type": "error",
     "traceback": [
      "\u001b[1;31m---------------------------------------------------------------------------\u001b[0m",
      "\u001b[1;31mValueError\u001b[0m                                Traceback (most recent call last)",
      "\u001b[1;32m~\\AppData\\Local\\Temp/ipykernel_17128/893877767.py\u001b[0m in \u001b[0;36m<module>\u001b[1;34m\u001b[0m\n\u001b[0;32m      1\u001b[0m \u001b[1;31m# Example 3 - breaking\u001b[0m\u001b[1;33m\u001b[0m\u001b[1;33m\u001b[0m\u001b[0m\n\u001b[1;32m----> 2\u001b[1;33m \u001b[0marray\u001b[0m \u001b[1;33m=\u001b[0m \u001b[0mgeek\u001b[0m\u001b[1;33m.\u001b[0m\u001b[0marange\u001b[0m\u001b[1;33m(\u001b[0m\u001b[1;36m12\u001b[0m\u001b[1;33m)\u001b[0m\u001b[1;33m.\u001b[0m\u001b[0mreshape\u001b[0m\u001b[1;33m(\u001b[0m\u001b[1;33m(\u001b[0m\u001b[1;36m2\u001b[0m\u001b[1;33m,\u001b[0m\u001b[1;36m2\u001b[0m\u001b[1;33m,\u001b[0m\u001b[1;36m2\u001b[0m\u001b[1;33m)\u001b[0m\u001b[1;33m)\u001b[0m\u001b[1;33m\u001b[0m\u001b[1;33m\u001b[0m\u001b[0m\n\u001b[0m\u001b[0;32m      3\u001b[0m \u001b[0mprint\u001b[0m\u001b[1;33m(\u001b[0m\u001b[1;34m\"Original array : \\n\"\u001b[0m\u001b[1;33m,\u001b[0m \u001b[0marray\u001b[0m\u001b[1;33m)\u001b[0m\u001b[1;33m\u001b[0m\u001b[1;33m\u001b[0m\u001b[0m\n\u001b[0;32m      4\u001b[0m \u001b[1;33m\u001b[0m\u001b[0m\n\u001b[0;32m      5\u001b[0m \u001b[0mprint\u001b[0m\u001b[1;33m(\u001b[0m\u001b[1;34m\"Flipped array : \\n\"\u001b[0m\u001b[1;33m,\u001b[0m \u001b[0mgeek\u001b[0m\u001b[1;33m.\u001b[0m\u001b[0mflip\u001b[0m\u001b[1;33m(\u001b[0m\u001b[0marray\u001b[0m\u001b[1;33m,\u001b[0m \u001b[1;36m0\u001b[0m\u001b[1;33m)\u001b[0m\u001b[1;33m)\u001b[0m\u001b[1;33m\u001b[0m\u001b[1;33m\u001b[0m\u001b[0m\n",
      "\u001b[1;31mValueError\u001b[0m: cannot reshape array of size 12 into shape (2,2,2)"
     ]
    }
   ],
   "source": [
    "# Example 3 - breaking\n",
    "array = geek.arange(12).reshape((2,2,2))\n",
    "print(\"Original array : \\n\", array)\n",
    " \n",
    "print(\"Flipped array : \\n\", geek.flip(array, 0))"
   ]
  },
  {
   "cell_type": "markdown",
   "id": "aa6f674e",
   "metadata": {},
   "source": [
    "Reshape size request is wrong"
   ]
  },
  {
   "cell_type": "code",
   "execution_count": 61,
   "id": "741e461f",
   "metadata": {},
   "outputs": [
    {
     "data": {
      "application/javascript": [
       "window.require && require([\"base/js/namespace\"],function(Jupyter){Jupyter.notebook.save_checkpoint()})"
      ],
      "text/plain": [
       "<IPython.core.display.Javascript object>"
      ]
     },
     "metadata": {},
     "output_type": "display_data"
    },
    {
     "name": "stdout",
     "output_type": "stream",
     "text": [
      "[jovian] Updating notebook \"rakesh-rajagopalachary/zerotoanalyst-numpy-array-operations\" on https://jovian.ai/\u001b[0m\n",
      "[jovian] Committed successfully! https://jovian.ai/rakesh-rajagopalachary/zerotoanalyst-numpy-array-operations\u001b[0m\n"
     ]
    },
    {
     "data": {
      "text/plain": [
       "'https://jovian.ai/rakesh-rajagopalachary/zerotoanalyst-numpy-array-operations'"
      ]
     },
     "execution_count": 61,
     "metadata": {},
     "output_type": "execute_result"
    }
   ],
   "source": [
    "jovian.commit()"
   ]
  },
  {
   "cell_type": "markdown",
   "id": "6f1f3800",
   "metadata": {},
   "source": [
    "## Function 5 - Arithemic operation\n",
    "\n",
    "NumPy is an open-source Python library for performing array computing (matrix operations). It is a wrapper around the library implemented in C and used for performing several trigonometric, algebraic, and statistical operations.  NumPy objects can be easily converted to other types of objects like the Pandas data frame and the tensorflow tensor. Python list can be used for array computing, but it is much slower than NumPy. NumPy achieves its fast implementation using vectorization. One of the important features of NumPy arrays is that a developer can perform the same mathematical operation on every element with a single command."
   ]
  },
  {
   "cell_type": "code",
   "execution_count": 62,
   "id": "daa9eccf",
   "metadata": {},
   "outputs": [
    {
     "name": "stdout",
     "output_type": "stream",
     "text": [
      "[  7  77  23 130]\n",
      "[  7  77  23 130]\n",
      "[  8  79  26 134]\n",
      "[  7  77  23 130]\n"
     ]
    }
   ],
   "source": [
    "# Example 1 - working\n",
    "# Defining both the matrices\n",
    "a = np.array([5, 72, 13, 100])\n",
    "b = np.array([2, 5, 10, 30])\n",
    " \n",
    "# Performing addition using arithmetic operator\n",
    "add_ans = a+b\n",
    "print(add_ans)\n",
    " \n",
    "# Performing addition using numpy function\n",
    "add_ans = np.add(a, b)\n",
    "print(add_ans)\n",
    " \n",
    "# The same functions and operations can be used for multiple matrices\n",
    "c = np.array([1, 2, 3, 4])\n",
    "add_ans = a+b+c\n",
    "print(add_ans)\n",
    " \n",
    "add_ans = np.add(a, b, c)\n",
    "print(add_ans)"
   ]
  },
  {
   "cell_type": "markdown",
   "id": "3120ac11",
   "metadata": {},
   "source": [
    "Addition"
   ]
  },
  {
   "cell_type": "code",
   "execution_count": 66,
   "id": "00642dd3",
   "metadata": {},
   "outputs": [
    {
     "name": "stdout",
     "output_type": "stream",
     "text": [
      "[ 3 67  3 70]\n",
      "[ 3 67  3 70]\n"
     ]
    }
   ],
   "source": [
    "# Example 2 - working\n",
    "# Defining both the matrices\n",
    "a = np.array([5, 72, 13, 100])\n",
    "b = np.array([2, 5, 10, 30])\n",
    " \n",
    "# Performing subtraction using arithmetic operator\n",
    "sub_ans = a-b\n",
    "print(sub_ans)\n",
    " \n",
    "# Performing subtraction using numpy function\n",
    "sub_ans = np.subtract(a, b)\n",
    "print(sub_ans)"
   ]
  },
  {
   "cell_type": "markdown",
   "id": "fe710918",
   "metadata": {},
   "source": [
    "Subtraction"
   ]
  },
  {
   "cell_type": "code",
   "execution_count": 64,
   "id": "be751db9",
   "metadata": {},
   "outputs": [
    {
     "name": "stdout",
     "output_type": "stream",
     "text": [
      "[  10  360  130 3000]\n",
      "[  10  360  130 3000]\n"
     ]
    }
   ],
   "source": [
    "# Defining both the matrices\n",
    "a = np.array([5, 72, 13, 100])\n",
    "b = np.array([2, 5, 10, 30])\n",
    " \n",
    "# Performing multiplication using arithmetic operator\n",
    "mul_ans = a*b\n",
    "print(mul_ans)\n",
    " \n",
    "# Performing multiplication using numpy function\n",
    "mul_ans = np.multiply(a, b)\n",
    "print(mul_ans)"
   ]
  },
  {
   "cell_type": "markdown",
   "id": "6d6d2d00",
   "metadata": {},
   "source": [
    "multiplication"
   ]
  },
  {
   "cell_type": "code",
   "execution_count": 67,
   "id": "cb83aac4",
   "metadata": {},
   "outputs": [
    {
     "name": "stdout",
     "output_type": "stream",
     "text": [
      "[ 2.5        14.4         1.3         3.33333333]\n",
      "[ 2.5        14.4         1.3         3.33333333]\n"
     ]
    }
   ],
   "source": [
    "# Defining both the matrices\n",
    "a = np.array([5, 72, 13, 100])\n",
    "b = np.array([2, 5, 10, 30])\n",
    " \n",
    "# Performing division using arithmetic operators\n",
    "div_ans = a/b\n",
    "print(div_ans)\n",
    " \n",
    "# Performing division using numpy functions\n",
    "div_ans = np.divide(a, b)\n",
    "print(div_ans)"
   ]
  },
  {
   "cell_type": "markdown",
   "id": "b7c0bc6f",
   "metadata": {},
   "source": [
    " Division"
   ]
  },
  {
   "cell_type": "code",
   "execution_count": 73,
   "id": "a706f097",
   "metadata": {},
   "outputs": [
    {
     "name": "stdout",
     "output_type": "stream",
     "text": [
      "[1. 1. 1. 1.]\n",
      "[ 2.5        14.4         1.3         3.33333333]\n"
     ]
    }
   ],
   "source": [
    "# Example 3 - breaking\n",
    "# Defining both the matrices\n",
    "a = np.array([5, 72, 13, 100])\n",
    "b = np.array([2, 5, 10, 30])\n",
    " \n",
    "# Performing division using arithmetic operators\n",
    "div_ans = a/b*b/a\n",
    "print(div_ans)\n",
    " \n",
    "# Performing division using numpy functions\n",
    "div_ans = np.divide(a, b)\n",
    "print(div_ans)"
   ]
  },
  {
   "cell_type": "markdown",
   "id": "8dd02797",
   "metadata": {},
   "source": [
    "Multiple operations without proper boundries (Brackets) gives error results"
   ]
  },
  {
   "cell_type": "code",
   "execution_count": 74,
   "id": "05c3c6fe",
   "metadata": {},
   "outputs": [
    {
     "data": {
      "application/javascript": [
       "window.require && require([\"base/js/namespace\"],function(Jupyter){Jupyter.notebook.save_checkpoint()})"
      ],
      "text/plain": [
       "<IPython.core.display.Javascript object>"
      ]
     },
     "metadata": {},
     "output_type": "display_data"
    },
    {
     "name": "stdout",
     "output_type": "stream",
     "text": [
      "[jovian] Updating notebook \"rakesh-rajagopalachary/zerotoanalyst-numpy-array-operations\" on https://jovian.ai/\u001b[0m\n",
      "[jovian] Committed successfully! https://jovian.ai/rakesh-rajagopalachary/zerotoanalyst-numpy-array-operations\u001b[0m\n"
     ]
    },
    {
     "data": {
      "text/plain": [
       "'https://jovian.ai/rakesh-rajagopalachary/zerotoanalyst-numpy-array-operations'"
      ]
     },
     "execution_count": 74,
     "metadata": {},
     "output_type": "execute_result"
    }
   ],
   "source": [
    "jovian.commit()"
   ]
  },
  {
   "cell_type": "markdown",
   "id": "5601aad1",
   "metadata": {},
   "source": [
    "## Conclusion\n",
    "\n",
    "We have covered five different types of numpy functions which is going to be used in our day to day life to simplify the problem and obtain error-free result.  There are many more such functions to be explored."
   ]
  },
  {
   "cell_type": "markdown",
   "id": "d4b2e8ad",
   "metadata": {},
   "source": [
    "## Reference Links\n",
    "Provide links to your references and other interesting articles about Numpy arrays:\n",
    "* Numpy official tutorial : https://numpy.org/doc/stable/user/quickstart.html\n",
    "- Numpy: https://numpy.org/\n",
    "- geeks: https://www.geeksforgeeks.org/\n",
    "- w3 schools : https://www.w3resource.com/numpy/"
   ]
  },
  {
   "cell_type": "code",
   "execution_count": 77,
   "id": "a5421dd2",
   "metadata": {},
   "outputs": [
    {
     "data": {
      "application/javascript": [
       "window.require && require([\"base/js/namespace\"],function(Jupyter){Jupyter.notebook.save_checkpoint()})"
      ],
      "text/plain": [
       "<IPython.core.display.Javascript object>"
      ]
     },
     "metadata": {},
     "output_type": "display_data"
    },
    {
     "name": "stdout",
     "output_type": "stream",
     "text": [
      "[jovian] Updating notebook \"rakesh-rajagopalachary/zerotoanalyst-numpy-array-operations\" on https://jovian.ai/\u001b[0m\n",
      "[jovian] Committed successfully! https://jovian.ai/rakesh-rajagopalachary/zerotoanalyst-numpy-array-operations\u001b[0m\n"
     ]
    },
    {
     "data": {
      "text/plain": [
       "'https://jovian.ai/rakesh-rajagopalachary/zerotoanalyst-numpy-array-operations'"
      ]
     },
     "execution_count": 77,
     "metadata": {},
     "output_type": "execute_result"
    }
   ],
   "source": [
    "jovian.commit()"
   ]
  },
  {
   "cell_type": "code",
   "execution_count": 28,
   "id": "4a8e2da5",
   "metadata": {},
   "outputs": [],
   "source": [
    "def mean(nums):\n",
    "    total = 0\n",
    "    for num in nums:\n",
    "        total += num \n",
    "    return total/len(nums)"
   ]
  },
  {
   "cell_type": "code",
   "execution_count": 29,
   "id": "e40fce73",
   "metadata": {},
   "outputs": [
    {
     "data": {
      "text/plain": [
       "6.6"
      ]
     },
     "execution_count": 29,
     "metadata": {},
     "output_type": "execute_result"
    }
   ],
   "source": [
    "mean ([3,5,7,8,10])"
   ]
  },
  {
   "cell_type": "code",
   "execution_count": 7,
   "id": "9c95df55",
   "metadata": {},
   "outputs": [],
   "source": [
    "notebooks = [281, 276, 338, 298, 382, 291, 269]"
   ]
  },
  {
   "cell_type": "code",
   "execution_count": 8,
   "id": "a4da36cd",
   "metadata": {},
   "outputs": [
    {
     "data": {
      "text/plain": [
       "305.0"
      ]
     },
     "execution_count": 8,
     "metadata": {},
     "output_type": "execute_result"
    }
   ],
   "source": [
    "notebooks_per_day = mean(notebooks)\n",
    "notebooks_per_day"
   ]
  },
  {
   "cell_type": "code",
   "execution_count": 12,
   "id": "0e39bbf4",
   "metadata": {},
   "outputs": [
    {
     "name": "stdout",
     "output_type": "stream",
     "text": [
      "An average of 305.0 notebooks were created every day on Jovian over the last 7 days.\n"
     ]
    }
   ],
   "source": [
    "print(\"An average of {} notebooks were created every day on Jovian over the last 7 days.\".format(notebooks_per_day))"
   ]
  },
  {
   "cell_type": "code",
   "execution_count": 1,
   "id": "c6e584fb",
   "metadata": {},
   "outputs": [],
   "source": [
    "# Import the numpy module with an alias\n",
    "import numpy as np\n",
    "import pandas as pd\n"
   ]
  },
  {
   "cell_type": "code",
   "execution_count": 14,
   "id": "cc2a9f9f",
   "metadata": {},
   "outputs": [
    {
     "data": {
      "text/plain": [
       "305.0"
      ]
     },
     "execution_count": 14,
     "metadata": {},
     "output_type": "execute_result"
    }
   ],
   "source": [
    "# Use a function from the numpy module\n",
    "np.mean(notebooks)"
   ]
  },
  {
   "cell_type": "code",
   "execution_count": 15,
   "id": "079d6e1b",
   "metadata": {},
   "outputs": [],
   "source": [
    "versions = [1669, 1632, 1747, 1936, 1859, 1497, 1270]"
   ]
  },
  {
   "cell_type": "code",
   "execution_count": 17,
   "id": "e906286b",
   "metadata": {},
   "outputs": [
    {
     "data": {
      "text/plain": [
       "1658.5714285714287"
      ]
     },
     "execution_count": 17,
     "metadata": {},
     "output_type": "execute_result"
    }
   ],
   "source": [
    "t = np.mean(versions)\n",
    "t"
   ]
  },
  {
   "cell_type": "code",
   "execution_count": 23,
   "id": "19678c1a",
   "metadata": {},
   "outputs": [],
   "source": [
    "def again (versions):\n",
    "    t = 0\n",
    "    for v in versions:\n",
    "        t += v\n",
    "    return t/len(versions)"
   ]
  },
  {
   "cell_type": "code",
   "execution_count": 33,
   "id": "460c36e0",
   "metadata": {},
   "outputs": [
    {
     "data": {
      "text/plain": [
       "1658.5714285714287"
      ]
     },
     "execution_count": 33,
     "metadata": {},
     "output_type": "execute_result"
    }
   ],
   "source": [
    "again ([1669, 1632, 1747, 1936, 1859, 1497, 1270])"
   ]
  },
  {
   "cell_type": "code",
   "execution_count": 34,
   "id": "e36eb101",
   "metadata": {},
   "outputs": [],
   "source": [
    "notebooks = [281, 276, 338, 298, 382, 291, 269]\n",
    "versions = [1669, 1632, 1747, 1936, 1859, 1497, 1270]"
   ]
  },
  {
   "cell_type": "code",
   "execution_count": 40,
   "id": "3984ac55",
   "metadata": {},
   "outputs": [
    {
     "data": {
      "text/plain": [
       "array([0.16836429, 0.16911765, 0.19347453, 0.15392562, 0.20548682,\n",
       "       0.19438878, 0.21181102])"
      ]
     },
     "execution_count": 40,
     "metadata": {},
     "output_type": "execute_result"
    }
   ],
   "source": [
    "t = (np.array(notebooks))/(np.array(versions))\n",
    "t"
   ]
  },
  {
   "cell_type": "code",
   "execution_count": 41,
   "id": "7f5e7dc7",
   "metadata": {},
   "outputs": [
    {
     "data": {
      "text/plain": [
       "5.437939110070258"
      ]
     },
     "execution_count": 41,
     "metadata": {},
     "output_type": "execute_result"
    }
   ],
   "source": [
    "avg_versions = np.sum(versions) / np.sum(notebooks)\n",
    "avg_versions"
   ]
  },
  {
   "cell_type": "code",
   "execution_count": 3,
   "id": "ab427d81",
   "metadata": {},
   "outputs": [],
   "source": [
    "state_gdp_url = 'https://gist.githubusercontent.com/aakashns/b83c25b654bdf20c085382f3d28bb15c/raw/046a19a942ef5a96d33c2e7b2dc5a9ce1a35e868/india_per_capita_gdp_by_state.csv'"
   ]
  },
  {
   "cell_type": "code",
   "execution_count": 4,
   "id": "d2f930be",
   "metadata": {},
   "outputs": [
    {
     "data": {
      "text/html": [
       "<div>\n",
       "<style scoped>\n",
       "    .dataframe tbody tr th:only-of-type {\n",
       "        vertical-align: middle;\n",
       "    }\n",
       "\n",
       "    .dataframe tbody tr th {\n",
       "        vertical-align: top;\n",
       "    }\n",
       "\n",
       "    .dataframe thead th {\n",
       "        text-align: right;\n",
       "    }\n",
       "</style>\n",
       "<table border=\"1\" class=\"dataframe\">\n",
       "  <thead>\n",
       "    <tr style=\"text-align: right;\">\n",
       "      <th></th>\n",
       "      <th>state</th>\n",
       "      <th>population</th>\n",
       "      <th>gdp_per_capita</th>\n",
       "    </tr>\n",
       "  </thead>\n",
       "  <tbody>\n",
       "    <tr>\n",
       "      <th>0</th>\n",
       "      <td>Andaman &amp; Nicobar</td>\n",
       "      <td>380581</td>\n",
       "      <td>2890</td>\n",
       "    </tr>\n",
       "    <tr>\n",
       "      <th>1</th>\n",
       "      <td>Andhra Pradesh</td>\n",
       "      <td>49577103</td>\n",
       "      <td>2824</td>\n",
       "    </tr>\n",
       "    <tr>\n",
       "      <th>2</th>\n",
       "      <td>Arunachal Pradesh</td>\n",
       "      <td>1383727</td>\n",
       "      <td>2457</td>\n",
       "    </tr>\n",
       "    <tr>\n",
       "      <th>3</th>\n",
       "      <td>Assam</td>\n",
       "      <td>31205576</td>\n",
       "      <td>1410</td>\n",
       "    </tr>\n",
       "    <tr>\n",
       "      <th>4</th>\n",
       "      <td>Bihar</td>\n",
       "      <td>104099452</td>\n",
       "      <td>826</td>\n",
       "    </tr>\n",
       "    <tr>\n",
       "      <th>5</th>\n",
       "      <td>Chandigarh</td>\n",
       "      <td>1055450</td>\n",
       "      <td>5590</td>\n",
       "    </tr>\n",
       "    <tr>\n",
       "      <th>6</th>\n",
       "      <td>Chhattisgarh</td>\n",
       "      <td>25545198</td>\n",
       "      <td>1801</td>\n",
       "    </tr>\n",
       "    <tr>\n",
       "      <th>7</th>\n",
       "      <td>Delhi</td>\n",
       "      <td>16787941</td>\n",
       "      <td>7148</td>\n",
       "    </tr>\n",
       "    <tr>\n",
       "      <th>8</th>\n",
       "      <td>Goa</td>\n",
       "      <td>1458545</td>\n",
       "      <td>6856</td>\n",
       "    </tr>\n",
       "    <tr>\n",
       "      <th>9</th>\n",
       "      <td>Gujarat</td>\n",
       "      <td>60439692</td>\n",
       "      <td>3475</td>\n",
       "    </tr>\n",
       "    <tr>\n",
       "      <th>10</th>\n",
       "      <td>Haryana</td>\n",
       "      <td>25351462</td>\n",
       "      <td>4733</td>\n",
       "    </tr>\n",
       "    <tr>\n",
       "      <th>11</th>\n",
       "      <td>Himachal Pradesh</td>\n",
       "      <td>6864602</td>\n",
       "      <td>3351</td>\n",
       "    </tr>\n",
       "    <tr>\n",
       "      <th>12</th>\n",
       "      <td>Jammu and Kashmir</td>\n",
       "      <td>12541032</td>\n",
       "      <td>1754</td>\n",
       "    </tr>\n",
       "    <tr>\n",
       "      <th>13</th>\n",
       "      <td>Jharkhand</td>\n",
       "      <td>32988134</td>\n",
       "      <td>1394</td>\n",
       "    </tr>\n",
       "    <tr>\n",
       "      <th>14</th>\n",
       "      <td>Karnataka</td>\n",
       "      <td>61095297</td>\n",
       "      <td>3928</td>\n",
       "    </tr>\n",
       "    <tr>\n",
       "      <th>15</th>\n",
       "      <td>Kerala</td>\n",
       "      <td>33406061</td>\n",
       "      <td>3293</td>\n",
       "    </tr>\n",
       "    <tr>\n",
       "      <th>16</th>\n",
       "      <td>Madhya Pradesh</td>\n",
       "      <td>72626809</td>\n",
       "      <td>1790</td>\n",
       "    </tr>\n",
       "    <tr>\n",
       "      <th>17</th>\n",
       "      <td>Maharashtra</td>\n",
       "      <td>112374333</td>\n",
       "      <td>3560</td>\n",
       "    </tr>\n",
       "    <tr>\n",
       "      <th>18</th>\n",
       "      <td>Manipur</td>\n",
       "      <td>2570390</td>\n",
       "      <td>1517</td>\n",
       "    </tr>\n",
       "    <tr>\n",
       "      <th>19</th>\n",
       "      <td>Meghalaya</td>\n",
       "      <td>2966889</td>\n",
       "      <td>1719</td>\n",
       "    </tr>\n",
       "    <tr>\n",
       "      <th>20</th>\n",
       "      <td>Mizoram</td>\n",
       "      <td>1097206</td>\n",
       "      <td>2461</td>\n",
       "    </tr>\n",
       "    <tr>\n",
       "      <th>21</th>\n",
       "      <td>Nagaland</td>\n",
       "      <td>1978502</td>\n",
       "      <td>1921</td>\n",
       "    </tr>\n",
       "    <tr>\n",
       "      <th>22</th>\n",
       "      <td>Odisha</td>\n",
       "      <td>41974219</td>\n",
       "      <td>1763</td>\n",
       "    </tr>\n",
       "    <tr>\n",
       "      <th>23</th>\n",
       "      <td>Puducherry</td>\n",
       "      <td>1247953</td>\n",
       "      <td>4567</td>\n",
       "    </tr>\n",
       "    <tr>\n",
       "      <th>24</th>\n",
       "      <td>Punjab</td>\n",
       "      <td>27743338</td>\n",
       "      <td>2920</td>\n",
       "    </tr>\n",
       "    <tr>\n",
       "      <th>25</th>\n",
       "      <td>Rajasthan</td>\n",
       "      <td>68548437</td>\n",
       "      <td>2042</td>\n",
       "    </tr>\n",
       "    <tr>\n",
       "      <th>26</th>\n",
       "      <td>Sikkim</td>\n",
       "      <td>610577</td>\n",
       "      <td>7534</td>\n",
       "    </tr>\n",
       "    <tr>\n",
       "      <th>27</th>\n",
       "      <td>Tamil Nadu</td>\n",
       "      <td>72147030</td>\n",
       "      <td>3604</td>\n",
       "    </tr>\n",
       "    <tr>\n",
       "      <th>28</th>\n",
       "      <td>Telangana</td>\n",
       "      <td>35003674</td>\n",
       "      <td>4000</td>\n",
       "    </tr>\n",
       "    <tr>\n",
       "      <th>29</th>\n",
       "      <td>Tripura</td>\n",
       "      <td>3673917</td>\n",
       "      <td>1769</td>\n",
       "    </tr>\n",
       "    <tr>\n",
       "      <th>30</th>\n",
       "      <td>Uttar Pradesh</td>\n",
       "      <td>199812341</td>\n",
       "      <td>1251</td>\n",
       "    </tr>\n",
       "    <tr>\n",
       "      <th>31</th>\n",
       "      <td>Uttarakhand</td>\n",
       "      <td>10086292</td>\n",
       "      <td>3371</td>\n",
       "    </tr>\n",
       "    <tr>\n",
       "      <th>32</th>\n",
       "      <td>West Bengal</td>\n",
       "      <td>91276115</td>\n",
       "      <td>1972</td>\n",
       "    </tr>\n",
       "  </tbody>\n",
       "</table>\n",
       "</div>"
      ],
      "text/plain": [
       "                state  population  gdp_per_capita\n",
       "0   Andaman & Nicobar      380581            2890\n",
       "1      Andhra Pradesh    49577103            2824\n",
       "2   Arunachal Pradesh     1383727            2457\n",
       "3               Assam    31205576            1410\n",
       "4               Bihar   104099452             826\n",
       "5          Chandigarh     1055450            5590\n",
       "6        Chhattisgarh    25545198            1801\n",
       "7               Delhi    16787941            7148\n",
       "8                 Goa     1458545            6856\n",
       "9             Gujarat    60439692            3475\n",
       "10            Haryana    25351462            4733\n",
       "11   Himachal Pradesh     6864602            3351\n",
       "12  Jammu and Kashmir    12541032            1754\n",
       "13          Jharkhand    32988134            1394\n",
       "14          Karnataka    61095297            3928\n",
       "15             Kerala    33406061            3293\n",
       "16     Madhya Pradesh    72626809            1790\n",
       "17        Maharashtra   112374333            3560\n",
       "18            Manipur     2570390            1517\n",
       "19          Meghalaya     2966889            1719\n",
       "20            Mizoram     1097206            2461\n",
       "21           Nagaland     1978502            1921\n",
       "22             Odisha    41974219            1763\n",
       "23         Puducherry     1247953            4567\n",
       "24             Punjab    27743338            2920\n",
       "25          Rajasthan    68548437            2042\n",
       "26             Sikkim      610577            7534\n",
       "27         Tamil Nadu    72147030            3604\n",
       "28          Telangana    35003674            4000\n",
       "29            Tripura     3673917            1769\n",
       "30      Uttar Pradesh   199812341            1251\n",
       "31        Uttarakhand    10086292            3371\n",
       "32        West Bengal    91276115            1972"
      ]
     },
     "execution_count": 4,
     "metadata": {},
     "output_type": "execute_result"
    }
   ],
   "source": [
    "dataframe = pd.read_csv(state_gdp_url)\n",
    "dataframe"
   ]
  },
  {
   "cell_type": "code",
   "execution_count": 4,
   "id": "60597057",
   "metadata": {},
   "outputs": [
    {
     "ename": "UnboundLocalError",
     "evalue": "local variable 'result' referenced before assignment",
     "output_type": "error",
     "traceback": [
      "\u001b[1;31m---------------------------------------------------------------------------\u001b[0m",
      "\u001b[1;31mUnboundLocalError\u001b[0m                         Traceback (most recent call last)",
      "\u001b[1;32m~\\AppData\\Local\\Temp/ipykernel_10840/2704383750.py\u001b[0m in \u001b[0;36m<module>\u001b[1;34m\u001b[0m\n\u001b[1;32m----> 1\u001b[1;33m \u001b[0mmean\u001b[0m\u001b[1;33m(\u001b[0m\u001b[1;33m[\u001b[0m\u001b[1;36m3\u001b[0m\u001b[1;33m,\u001b[0m \u001b[1;36m5\u001b[0m\u001b[1;33m,\u001b[0m \u001b[1;36m7\u001b[0m\u001b[1;33m,\u001b[0m \u001b[1;36m8\u001b[0m\u001b[1;33m,\u001b[0m \u001b[1;36m10\u001b[0m\u001b[1;33m]\u001b[0m\u001b[1;33m)\u001b[0m\u001b[1;33m\u001b[0m\u001b[1;33m\u001b[0m\u001b[0m\n\u001b[0m",
      "\u001b[1;32m~\\AppData\\Local\\Temp/ipykernel_10840/534705449.py\u001b[0m in \u001b[0;36mmean\u001b[1;34m(nums)\u001b[0m\n\u001b[0;32m      1\u001b[0m \u001b[1;32mdef\u001b[0m \u001b[0mmean\u001b[0m \u001b[1;33m(\u001b[0m\u001b[0mnums\u001b[0m\u001b[1;33m)\u001b[0m\u001b[1;33m:\u001b[0m\u001b[1;33m\u001b[0m\u001b[1;33m\u001b[0m\u001b[0m\n\u001b[0;32m      2\u001b[0m     \u001b[1;32mfor\u001b[0m \u001b[0mnum\u001b[0m \u001b[1;32min\u001b[0m \u001b[0mnums\u001b[0m\u001b[1;33m:\u001b[0m\u001b[1;33m\u001b[0m\u001b[1;33m\u001b[0m\u001b[0m\n\u001b[1;32m----> 3\u001b[1;33m         \u001b[0mresult\u001b[0m \u001b[1;33m+=\u001b[0m \u001b[0mnum\u001b[0m\u001b[1;33m\u001b[0m\u001b[1;33m\u001b[0m\u001b[0m\n\u001b[0m\u001b[0;32m      4\u001b[0m     \u001b[1;32mreturn\u001b[0m \u001b[0mresult\u001b[0m\u001b[1;33m/\u001b[0m\u001b[0mlen\u001b[0m\u001b[1;33m(\u001b[0m\u001b[0mnums\u001b[0m\u001b[1;33m)\u001b[0m\u001b[1;33m\u001b[0m\u001b[1;33m\u001b[0m\u001b[0m\n",
      "\u001b[1;31mUnboundLocalError\u001b[0m: local variable 'result' referenced before assignment"
     ]
    }
   ],
   "source": [
    "mean([3, 5, 7, 8, 10])"
   ]
  },
  {
   "cell_type": "code",
   "execution_count": 8,
   "id": "275b3449",
   "metadata": {},
   "outputs": [],
   "source": [
    "def mean (nums):\n",
    "    result = 0\n",
    "    for num in nums:\n",
    "        result += num\n",
    "    return result/len(nums)"
   ]
  },
  {
   "cell_type": "code",
   "execution_count": 9,
   "id": "9dfc59d3",
   "metadata": {},
   "outputs": [
    {
     "data": {
      "text/plain": [
       "6.6"
      ]
     },
     "execution_count": 9,
     "metadata": {},
     "output_type": "execute_result"
    }
   ],
   "source": [
    "mean([3, 5, 7, 8, 10])"
   ]
  },
  {
   "cell_type": "code",
   "execution_count": 10,
   "id": "cf39131d",
   "metadata": {},
   "outputs": [],
   "source": [
    "notebooks = [281, 276, 338, 298, 382, 291, 269]"
   ]
  },
  {
   "cell_type": "code",
   "execution_count": 11,
   "id": "2090454f",
   "metadata": {},
   "outputs": [
    {
     "data": {
      "text/plain": [
       "305.0"
      ]
     },
     "execution_count": 11,
     "metadata": {},
     "output_type": "execute_result"
    }
   ],
   "source": [
    "notebooks_per_day = mean(notebooks)\n",
    "notebooks_per_day"
   ]
  },
  {
   "cell_type": "code",
   "execution_count": 12,
   "id": "f2b324ee",
   "metadata": {},
   "outputs": [
    {
     "name": "stdout",
     "output_type": "stream",
     "text": [
      "try 305.0\n"
     ]
    }
   ],
   "source": [
    "print('try {}'.format(notebooks_per_day))"
   ]
  },
  {
   "cell_type": "code",
   "execution_count": 13,
   "id": "2f00bbec",
   "metadata": {},
   "outputs": [
    {
     "name": "stdout",
     "output_type": "stream",
     "text": [
      "An average of 305.0 notebooks were created every day on Jovian over the last 7 days.\n"
     ]
    }
   ],
   "source": [
    "print(\"An average of {} notebooks were created every day on Jovian over the last 7 days.\".format(notebooks_per_day))"
   ]
  },
  {
   "cell_type": "code",
   "execution_count": 14,
   "id": "f9629a8c",
   "metadata": {},
   "outputs": [
    {
     "data": {
      "text/plain": [
       "305.0"
      ]
     },
     "execution_count": 14,
     "metadata": {},
     "output_type": "execute_result"
    }
   ],
   "source": [
    "# Use a function from the numpy module\n",
    "np.mean(notebooks)"
   ]
  },
  {
   "cell_type": "code",
   "execution_count": 26,
   "id": "72f609b5",
   "metadata": {},
   "outputs": [],
   "source": [
    "version = [1669, 1632, 1747, 1936, 1859, 1497, 1270]"
   ]
  },
  {
   "cell_type": "code",
   "execution_count": 23,
   "id": "735e681a",
   "metadata": {},
   "outputs": [],
   "source": [
    "def versions (text):\n",
    "    value = 0\n",
    "    for t in text:\n",
    "        value += t\n",
    "    return value/len(text)"
   ]
  },
  {
   "cell_type": "code",
   "execution_count": 24,
   "id": "abdee17a",
   "metadata": {},
   "outputs": [
    {
     "data": {
      "text/plain": [
       "1658.5714285714287"
      ]
     },
     "execution_count": 24,
     "metadata": {},
     "output_type": "execute_result"
    }
   ],
   "source": [
    "versions([1669, 1632, 1747, 1936, 1859, 1497, 1270])"
   ]
  },
  {
   "cell_type": "code",
   "execution_count": 27,
   "id": "a160ff49",
   "metadata": {},
   "outputs": [
    {
     "data": {
      "text/plain": [
       "1658.5714285714287"
      ]
     },
     "execution_count": 27,
     "metadata": {},
     "output_type": "execute_result"
    }
   ],
   "source": [
    "t = np.mean(version)\n",
    "t"
   ]
  },
  {
   "cell_type": "code",
   "execution_count": 28,
   "id": "c538b610",
   "metadata": {},
   "outputs": [],
   "source": [
    "notebooks = [281, 276, 338, 298, 382, 291, 269]\n",
    "versions = [1669, 1632, 1747, 1936, 1859, 1497, 1270]"
   ]
  },
  {
   "cell_type": "code",
   "execution_count": 31,
   "id": "def8fac7",
   "metadata": {},
   "outputs": [
    {
     "data": {
      "text/plain": [
       "1963.5714285714287"
      ]
     },
     "execution_count": 31,
     "metadata": {},
     "output_type": "execute_result"
    }
   ],
   "source": [
    "t = np.array(notebooks)\n",
    "u = np.array(versions)\n",
    "v = t+u\n",
    "h = v.sum()/len(t)\n",
    "h"
   ]
  },
  {
   "cell_type": "code",
   "execution_count": 43,
   "id": "72b36530",
   "metadata": {},
   "outputs": [],
   "source": [
    "def t (x,y):\n",
    "    t = np.array(x)\n",
    "    u = np.array(y)\n",
    "    v = t+u\n",
    "    h = v.sum()/len(t)\n",
    "    z = u.sum()/t.sum()\n",
    "    return h, z"
   ]
  },
  {
   "cell_type": "code",
   "execution_count": 44,
   "id": "5115e303",
   "metadata": {},
   "outputs": [
    {
     "data": {
      "text/plain": [
       "(1963.5714285714287, 5.437939110070258)"
      ]
     },
     "execution_count": 44,
     "metadata": {},
     "output_type": "execute_result"
    }
   ],
   "source": [
    "t (notebooks,versions)"
   ]
  },
  {
   "cell_type": "code",
   "execution_count": 45,
   "id": "f6e25213",
   "metadata": {},
   "outputs": [],
   "source": [
    "state_gdp_url = 'https://gist.githubusercontent.com/aakashns/b83c25b654bdf20c085382f3d28bb15c/raw/046a19a942ef5a96d33c2e7b2dc5a9ce1a35e868/india_per_capita_gdp_by_state.csv'"
   ]
  },
  {
   "cell_type": "code",
   "execution_count": 46,
   "id": "c3ecd055",
   "metadata": {},
   "outputs": [
    {
     "data": {
      "text/html": [
       "<div>\n",
       "<style scoped>\n",
       "    .dataframe tbody tr th:only-of-type {\n",
       "        vertical-align: middle;\n",
       "    }\n",
       "\n",
       "    .dataframe tbody tr th {\n",
       "        vertical-align: top;\n",
       "    }\n",
       "\n",
       "    .dataframe thead th {\n",
       "        text-align: right;\n",
       "    }\n",
       "</style>\n",
       "<table border=\"1\" class=\"dataframe\">\n",
       "  <thead>\n",
       "    <tr style=\"text-align: right;\">\n",
       "      <th></th>\n",
       "      <th>state</th>\n",
       "      <th>population</th>\n",
       "      <th>gdp_per_capita</th>\n",
       "    </tr>\n",
       "  </thead>\n",
       "  <tbody>\n",
       "    <tr>\n",
       "      <th>0</th>\n",
       "      <td>Andaman &amp; Nicobar</td>\n",
       "      <td>380581</td>\n",
       "      <td>2890</td>\n",
       "    </tr>\n",
       "    <tr>\n",
       "      <th>1</th>\n",
       "      <td>Andhra Pradesh</td>\n",
       "      <td>49577103</td>\n",
       "      <td>2824</td>\n",
       "    </tr>\n",
       "    <tr>\n",
       "      <th>2</th>\n",
       "      <td>Arunachal Pradesh</td>\n",
       "      <td>1383727</td>\n",
       "      <td>2457</td>\n",
       "    </tr>\n",
       "    <tr>\n",
       "      <th>3</th>\n",
       "      <td>Assam</td>\n",
       "      <td>31205576</td>\n",
       "      <td>1410</td>\n",
       "    </tr>\n",
       "    <tr>\n",
       "      <th>4</th>\n",
       "      <td>Bihar</td>\n",
       "      <td>104099452</td>\n",
       "      <td>826</td>\n",
       "    </tr>\n",
       "    <tr>\n",
       "      <th>5</th>\n",
       "      <td>Chandigarh</td>\n",
       "      <td>1055450</td>\n",
       "      <td>5590</td>\n",
       "    </tr>\n",
       "    <tr>\n",
       "      <th>6</th>\n",
       "      <td>Chhattisgarh</td>\n",
       "      <td>25545198</td>\n",
       "      <td>1801</td>\n",
       "    </tr>\n",
       "    <tr>\n",
       "      <th>7</th>\n",
       "      <td>Delhi</td>\n",
       "      <td>16787941</td>\n",
       "      <td>7148</td>\n",
       "    </tr>\n",
       "    <tr>\n",
       "      <th>8</th>\n",
       "      <td>Goa</td>\n",
       "      <td>1458545</td>\n",
       "      <td>6856</td>\n",
       "    </tr>\n",
       "    <tr>\n",
       "      <th>9</th>\n",
       "      <td>Gujarat</td>\n",
       "      <td>60439692</td>\n",
       "      <td>3475</td>\n",
       "    </tr>\n",
       "    <tr>\n",
       "      <th>10</th>\n",
       "      <td>Haryana</td>\n",
       "      <td>25351462</td>\n",
       "      <td>4733</td>\n",
       "    </tr>\n",
       "    <tr>\n",
       "      <th>11</th>\n",
       "      <td>Himachal Pradesh</td>\n",
       "      <td>6864602</td>\n",
       "      <td>3351</td>\n",
       "    </tr>\n",
       "    <tr>\n",
       "      <th>12</th>\n",
       "      <td>Jammu and Kashmir</td>\n",
       "      <td>12541032</td>\n",
       "      <td>1754</td>\n",
       "    </tr>\n",
       "    <tr>\n",
       "      <th>13</th>\n",
       "      <td>Jharkhand</td>\n",
       "      <td>32988134</td>\n",
       "      <td>1394</td>\n",
       "    </tr>\n",
       "    <tr>\n",
       "      <th>14</th>\n",
       "      <td>Karnataka</td>\n",
       "      <td>61095297</td>\n",
       "      <td>3928</td>\n",
       "    </tr>\n",
       "    <tr>\n",
       "      <th>15</th>\n",
       "      <td>Kerala</td>\n",
       "      <td>33406061</td>\n",
       "      <td>3293</td>\n",
       "    </tr>\n",
       "    <tr>\n",
       "      <th>16</th>\n",
       "      <td>Madhya Pradesh</td>\n",
       "      <td>72626809</td>\n",
       "      <td>1790</td>\n",
       "    </tr>\n",
       "    <tr>\n",
       "      <th>17</th>\n",
       "      <td>Maharashtra</td>\n",
       "      <td>112374333</td>\n",
       "      <td>3560</td>\n",
       "    </tr>\n",
       "    <tr>\n",
       "      <th>18</th>\n",
       "      <td>Manipur</td>\n",
       "      <td>2570390</td>\n",
       "      <td>1517</td>\n",
       "    </tr>\n",
       "    <tr>\n",
       "      <th>19</th>\n",
       "      <td>Meghalaya</td>\n",
       "      <td>2966889</td>\n",
       "      <td>1719</td>\n",
       "    </tr>\n",
       "    <tr>\n",
       "      <th>20</th>\n",
       "      <td>Mizoram</td>\n",
       "      <td>1097206</td>\n",
       "      <td>2461</td>\n",
       "    </tr>\n",
       "    <tr>\n",
       "      <th>21</th>\n",
       "      <td>Nagaland</td>\n",
       "      <td>1978502</td>\n",
       "      <td>1921</td>\n",
       "    </tr>\n",
       "    <tr>\n",
       "      <th>22</th>\n",
       "      <td>Odisha</td>\n",
       "      <td>41974219</td>\n",
       "      <td>1763</td>\n",
       "    </tr>\n",
       "    <tr>\n",
       "      <th>23</th>\n",
       "      <td>Puducherry</td>\n",
       "      <td>1247953</td>\n",
       "      <td>4567</td>\n",
       "    </tr>\n",
       "    <tr>\n",
       "      <th>24</th>\n",
       "      <td>Punjab</td>\n",
       "      <td>27743338</td>\n",
       "      <td>2920</td>\n",
       "    </tr>\n",
       "    <tr>\n",
       "      <th>25</th>\n",
       "      <td>Rajasthan</td>\n",
       "      <td>68548437</td>\n",
       "      <td>2042</td>\n",
       "    </tr>\n",
       "    <tr>\n",
       "      <th>26</th>\n",
       "      <td>Sikkim</td>\n",
       "      <td>610577</td>\n",
       "      <td>7534</td>\n",
       "    </tr>\n",
       "    <tr>\n",
       "      <th>27</th>\n",
       "      <td>Tamil Nadu</td>\n",
       "      <td>72147030</td>\n",
       "      <td>3604</td>\n",
       "    </tr>\n",
       "    <tr>\n",
       "      <th>28</th>\n",
       "      <td>Telangana</td>\n",
       "      <td>35003674</td>\n",
       "      <td>4000</td>\n",
       "    </tr>\n",
       "    <tr>\n",
       "      <th>29</th>\n",
       "      <td>Tripura</td>\n",
       "      <td>3673917</td>\n",
       "      <td>1769</td>\n",
       "    </tr>\n",
       "    <tr>\n",
       "      <th>30</th>\n",
       "      <td>Uttar Pradesh</td>\n",
       "      <td>199812341</td>\n",
       "      <td>1251</td>\n",
       "    </tr>\n",
       "    <tr>\n",
       "      <th>31</th>\n",
       "      <td>Uttarakhand</td>\n",
       "      <td>10086292</td>\n",
       "      <td>3371</td>\n",
       "    </tr>\n",
       "    <tr>\n",
       "      <th>32</th>\n",
       "      <td>West Bengal</td>\n",
       "      <td>91276115</td>\n",
       "      <td>1972</td>\n",
       "    </tr>\n",
       "  </tbody>\n",
       "</table>\n",
       "</div>"
      ],
      "text/plain": [
       "                state  population  gdp_per_capita\n",
       "0   Andaman & Nicobar      380581            2890\n",
       "1      Andhra Pradesh    49577103            2824\n",
       "2   Arunachal Pradesh     1383727            2457\n",
       "3               Assam    31205576            1410\n",
       "4               Bihar   104099452             826\n",
       "5          Chandigarh     1055450            5590\n",
       "6        Chhattisgarh    25545198            1801\n",
       "7               Delhi    16787941            7148\n",
       "8                 Goa     1458545            6856\n",
       "9             Gujarat    60439692            3475\n",
       "10            Haryana    25351462            4733\n",
       "11   Himachal Pradesh     6864602            3351\n",
       "12  Jammu and Kashmir    12541032            1754\n",
       "13          Jharkhand    32988134            1394\n",
       "14          Karnataka    61095297            3928\n",
       "15             Kerala    33406061            3293\n",
       "16     Madhya Pradesh    72626809            1790\n",
       "17        Maharashtra   112374333            3560\n",
       "18            Manipur     2570390            1517\n",
       "19          Meghalaya     2966889            1719\n",
       "20            Mizoram     1097206            2461\n",
       "21           Nagaland     1978502            1921\n",
       "22             Odisha    41974219            1763\n",
       "23         Puducherry     1247953            4567\n",
       "24             Punjab    27743338            2920\n",
       "25          Rajasthan    68548437            2042\n",
       "26             Sikkim      610577            7534\n",
       "27         Tamil Nadu    72147030            3604\n",
       "28          Telangana    35003674            4000\n",
       "29            Tripura     3673917            1769\n",
       "30      Uttar Pradesh   199812341            1251\n",
       "31        Uttarakhand    10086292            3371\n",
       "32        West Bengal    91276115            1972"
      ]
     },
     "execution_count": 46,
     "metadata": {},
     "output_type": "execute_result"
    }
   ],
   "source": [
    "dataframe = pd.read_csv(state_gdp_url)\n",
    "dataframe"
   ]
  },
  {
   "cell_type": "code",
   "execution_count": 47,
   "id": "aa34e9fe",
   "metadata": {},
   "outputs": [],
   "source": [
    "population = dataframe['population']\n",
    "gdp_per_capita = dataframe['gdp_per_capita']"
   ]
  },
  {
   "cell_type": "code",
   "execution_count": 48,
   "id": "d24092f4",
   "metadata": {},
   "outputs": [
    {
     "data": {
      "text/plain": [
       "0       380581\n",
       "1     49577103\n",
       "2      1383727\n",
       "3     31205576\n",
       "4    104099452\n",
       "Name: population, dtype: int64"
      ]
     },
     "execution_count": 48,
     "metadata": {},
     "output_type": "execute_result"
    }
   ],
   "source": [
    "population[:5]"
   ]
  },
  {
   "cell_type": "code",
   "execution_count": 49,
   "id": "fdc9483b",
   "metadata": {},
   "outputs": [
    {
     "data": {
      "text/plain": [
       "1410"
      ]
     },
     "execution_count": 49,
     "metadata": {},
     "output_type": "execute_result"
    }
   ],
   "source": [
    "gdp_per_capita[3]"
   ]
  },
  {
   "cell_type": "code",
   "execution_count": 52,
   "id": "1226fede",
   "metadata": {},
   "outputs": [],
   "source": [
    "def multi (x,y):\n",
    "    z = x*y\n",
    "    return z"
   ]
  },
  {
   "cell_type": "code",
   "execution_count": 56,
   "id": "45c5357a",
   "metadata": {},
   "outputs": [
    {
     "data": {
      "text/plain": [
       "2948724668255"
      ]
     },
     "execution_count": 56,
     "metadata": {},
     "output_type": "execute_result"
    }
   ],
   "source": [
    "multi(population,gdp_per_capita).sum()"
   ]
  },
  {
   "cell_type": "code",
   "execution_count": 57,
   "id": "5be11a33",
   "metadata": {},
   "outputs": [],
   "source": [
    "def digg_it():\n",
    "    r = 5*200\n",
    "    print (r)"
   ]
  },
  {
   "cell_type": "code",
   "execution_count": 59,
   "id": "b48bc63c",
   "metadata": {},
   "outputs": [
    {
     "name": "stdout",
     "output_type": "stream",
     "text": [
      "1000\n"
     ]
    }
   ],
   "source": [
    "digg_it()"
   ]
  },
  {
   "cell_type": "code",
   "execution_count": 85,
   "id": "ce03a59e",
   "metadata": {},
   "outputs": [
    {
     "data": {
      "text/plain": [
       "{'input': {'cards': [8, 8, 6, 6, 6, 6, 6, 6, 3, 2, 2, 2, 0, 0, 0],\n",
       "  'query': [6]},\n",
       " 'output': 2}"
      ]
     },
     "execution_count": 85,
     "metadata": {},
     "output_type": "execute_result"
    }
   ],
   "source": [
    "# query occurs multiple times\n",
    "tests=({\n",
    "    'input': {\n",
    "        'cards': [8, 8, 6, 6, 6, 6, 6, 6, 3, 2, 2, 2, 0, 0, 0],\n",
    "        'query': [6]\n",
    "    },\n",
    "    'output': 2\n",
    "})\n",
    "tests"
   ]
  },
  {
   "cell_type": "code",
   "execution_count": 94,
   "id": "5a88f956",
   "metadata": {},
   "outputs": [],
   "source": [
    "tests = []"
   ]
  },
  {
   "cell_type": "code",
   "execution_count": 95,
   "id": "0a478b54",
   "metadata": {},
   "outputs": [
    {
     "ename": "NameError",
     "evalue": "name 'test' is not defined",
     "output_type": "error",
     "traceback": [
      "\u001b[1;31m---------------------------------------------------------------------------\u001b[0m",
      "\u001b[1;31mNameError\u001b[0m                                 Traceback (most recent call last)",
      "\u001b[1;32m~\\AppData\\Local\\Temp/ipykernel_10840/3573848014.py\u001b[0m in \u001b[0;36m<module>\u001b[1;34m\u001b[0m\n\u001b[0;32m      1\u001b[0m \u001b[1;31m# query occurs in the middle\u001b[0m\u001b[1;33m\u001b[0m\u001b[1;33m\u001b[0m\u001b[0m\n\u001b[1;32m----> 2\u001b[1;33m \u001b[0mtests\u001b[0m\u001b[1;33m.\u001b[0m\u001b[0mappend\u001b[0m\u001b[1;33m(\u001b[0m\u001b[0mtest\u001b[0m\u001b[1;33m)\u001b[0m\u001b[1;33m\u001b[0m\u001b[1;33m\u001b[0m\u001b[0m\n\u001b[0m\u001b[0;32m      3\u001b[0m \u001b[1;33m\u001b[0m\u001b[0m\n\u001b[0;32m      4\u001b[0m tests.append({\n\u001b[0;32m      5\u001b[0m     'input': {\n",
      "\u001b[1;31mNameError\u001b[0m: name 'test' is not defined"
     ]
    }
   ],
   "source": [
    "# query occurs in the middle\n",
    "tests.append(test)\n",
    "\n",
    "tests.append({\n",
    "    'input': {\n",
    "        'cards': [13, 11, 10, 7, 4, 3, 1, 0],\n",
    "        'query': 1\n",
    "    },\n",
    "    'output': 6\n",
    "})"
   ]
  },
  {
   "cell_type": "markdown",
   "id": "8fa84769",
   "metadata": {},
   "source": [
    "# Solution\n",
    "\n",
    "\n",
    "### 1. State the problem clearly. Identify the input & output formats.\n",
    "\n",
    "You will often encounter detailed word problems in coding challenges and interviews. The first step is to state the problem clearly and precisely in abstract terms. \n",
    "\n",
    "<img src=\"https://i.imgur.com/mazym6s.png\" width=\"480\">\n",
    "\n",
    "In this case, for instance, we can represent the sequence of cards as a list of numbers. Turning over a specific card is equivalent to accessing the value of the number at the corresponding position the list. \n",
    "\n",
    "<img src=\"https://i.imgur.com/G9fBarb.png\" width=\"600\">\n",
    "\n",
    "The problem can now be stated as follows:\n",
    "\n",
    "#### Problem\n",
    "\n",
    "> We need to write a program to find the position of a given number in a list of numbers arranged in decreasing order. We also need to minimize the number of times we access elements from the list.\n",
    "\n",
    "#### Input\n",
    "\n",
    "1. `cards`: A list of numbers sorted in decreasing order. E.g. `[13, 11, 10, 7, 4, 3, 1, 0]`\n",
    "2. `query`: A number, whose position in the array is to be determined. E.g. `7`\n",
    "\n",
    "#### Output\n",
    "\n",
    "3. `position`: The position of `query` in the list `cards`. E.g. `3` in the above case (counting from `0`)\n",
    "\n",
    "\n",
    "\n",
    "Based on the above, we can now create the signature of our function:"
   ]
  },
  {
   "cell_type": "code",
   "execution_count": 96,
   "id": "630ef01d",
   "metadata": {},
   "outputs": [],
   "source": [
    "def locate_card(cards, query):\n",
    "    pass"
   ]
  },
  {
   "cell_type": "code",
   "execution_count": 97,
   "id": "1064a924",
   "metadata": {},
   "outputs": [],
   "source": [
    "cards = [13, 11, 10, 7, 4, 3, 1, 0]\n",
    "query = 7\n",
    "output = 3"
   ]
  },
  {
   "cell_type": "code",
   "execution_count": 98,
   "id": "bd295147",
   "metadata": {},
   "outputs": [
    {
     "name": "stdout",
     "output_type": "stream",
     "text": [
      "None\n"
     ]
    }
   ],
   "source": [
    "result = locate_card(cards, query)\n",
    "print(result)"
   ]
  },
  {
   "cell_type": "code",
   "execution_count": 99,
   "id": "060e88c4",
   "metadata": {},
   "outputs": [],
   "source": [
    "test = {\n",
    "    'input': { \n",
    "        'cards': [13, 11, 10, 7, 4, 3, 1, 0], \n",
    "        'query': 7\n",
    "    },\n",
    "    'output': 3\n",
    "}"
   ]
  },
  {
   "cell_type": "code",
   "execution_count": 100,
   "id": "d056205e",
   "metadata": {},
   "outputs": [
    {
     "data": {
      "text/plain": [
       "False"
      ]
     },
     "execution_count": 100,
     "metadata": {},
     "output_type": "execute_result"
    }
   ],
   "source": [
    "locate_card(**test['input']) == test['output']"
   ]
  },
  {
   "cell_type": "code",
   "execution_count": 101,
   "id": "03768509",
   "metadata": {},
   "outputs": [],
   "source": [
    "tests = []"
   ]
  },
  {
   "cell_type": "code",
   "execution_count": 102,
   "id": "bf9e65fe",
   "metadata": {},
   "outputs": [],
   "source": [
    "# query occurs in the middle\n",
    "tests.append(test)\n",
    "\n",
    "tests.append({\n",
    "    'input': {\n",
    "        'cards': [13, 11, 10, 7, 4, 3, 1, 0],\n",
    "        'query': 1\n",
    "    },\n",
    "    'output': 6\n",
    "})"
   ]
  },
  {
   "cell_type": "code",
   "execution_count": 103,
   "id": "004da72b",
   "metadata": {},
   "outputs": [],
   "source": [
    "# query is the first element\n",
    "tests.append({\n",
    "    'input': {\n",
    "        'cards': [4, 2, 1, -1],\n",
    "        'query': 4\n",
    "    },\n",
    "    'output': 0\n",
    "})"
   ]
  },
  {
   "cell_type": "code",
   "execution_count": 104,
   "id": "2efed424",
   "metadata": {},
   "outputs": [],
   "source": [
    "# query is the last element\n",
    "tests.append({\n",
    "    'input': {\n",
    "        'cards': [3, -1, -9, -127],\n",
    "        'query': -127\n",
    "    },\n",
    "    'output': 3\n",
    "})"
   ]
  },
  {
   "cell_type": "code",
   "execution_count": 105,
   "id": "3497ca75",
   "metadata": {},
   "outputs": [],
   "source": [
    "# numbers can repeat in cards\n",
    "tests.append({\n",
    "    'input': {\n",
    "        'cards': [8, 8, 6, 6, 6, 6, 6, 3, 2, 2, 2, 0, 0, 0],\n",
    "        'query': 3\n",
    "    },\n",
    "    'output': 7\n",
    "})"
   ]
  },
  {
   "cell_type": "code",
   "execution_count": 106,
   "id": "87bb68aa",
   "metadata": {},
   "outputs": [
    {
     "data": {
      "text/plain": [
       "[{'input': {'cards': [13, 11, 10, 7, 4, 3, 1, 0], 'query': 7}, 'output': 3},\n",
       " {'input': {'cards': [13, 11, 10, 7, 4, 3, 1, 0], 'query': 1}, 'output': 6},\n",
       " {'input': {'cards': [4, 2, 1, -1], 'query': 4}, 'output': 0},\n",
       " {'input': {'cards': [3, -1, -9, -127], 'query': -127}, 'output': 3},\n",
       " {'input': {'cards': [8, 8, 6, 6, 6, 6, 6, 3, 2, 2, 2, 0, 0, 0], 'query': 3},\n",
       "  'output': 7}]"
      ]
     },
     "execution_count": 106,
     "metadata": {},
     "output_type": "execute_result"
    }
   ],
   "source": [
    "tests"
   ]
  },
  {
   "cell_type": "code",
   "execution_count": 107,
   "id": "dbbdd6a7",
   "metadata": {},
   "outputs": [],
   "source": [
    "def locate_card(cards, query):\n",
    "    # Create a variable position with the value 0\n",
    "    position = 0\n",
    "    \n",
    "    # Set up a loop for repetition\n",
    "    while True:\n",
    "        \n",
    "        # Check if element at the current position matche the query\n",
    "        if cards[position] == query:\n",
    "            \n",
    "            # Answer found! Return and exit..\n",
    "            return position\n",
    "        \n",
    "        # Increment the position\n",
    "        position += 1\n",
    "        \n",
    "        # Check if we have reached the end of the array\n",
    "        if position == len(cards):\n",
    "            \n",
    "            # Number not found, return -1\n",
    "            return -1"
   ]
  },
  {
   "cell_type": "code",
   "execution_count": 108,
   "id": "c3e4a9bc",
   "metadata": {},
   "outputs": [
    {
     "data": {
      "text/plain": [
       "{'input': {'cards': [13, 11, 10, 7, 4, 3, 1, 0], 'query': 7}, 'output': 3}"
      ]
     },
     "execution_count": 108,
     "metadata": {},
     "output_type": "execute_result"
    }
   ],
   "source": [
    "test"
   ]
  },
  {
   "cell_type": "code",
   "execution_count": 109,
   "id": "882a03cd",
   "metadata": {},
   "outputs": [
    {
     "data": {
      "text/plain": [
       "3"
      ]
     },
     "execution_count": 109,
     "metadata": {},
     "output_type": "execute_result"
    }
   ],
   "source": [
    "result = locate_card(test['input']['cards'], test['input']['query'])\n",
    "result"
   ]
  },
  {
   "cell_type": "code",
   "execution_count": 110,
   "id": "5172c523",
   "metadata": {},
   "outputs": [],
   "source": [
    "test = {\n",
    "    'input': { \n",
    "        'cards': [13, 11, 10, 7, 4, 3, 1, 0], \n",
    "        'query': 7\n",
    "    },\n",
    "    'output': 3\n",
    "}"
   ]
  },
  {
   "cell_type": "code",
   "execution_count": 120,
   "id": "30d0803f",
   "metadata": {},
   "outputs": [
    {
     "data": {
      "text/plain": [
       "3"
      ]
     },
     "execution_count": 120,
     "metadata": {},
     "output_type": "execute_result"
    }
   ],
   "source": [
    "f = test['output']\n",
    "f"
   ]
  },
  {
   "cell_type": "code",
   "execution_count": 121,
   "id": "9e839ce0",
   "metadata": {},
   "outputs": [
    {
     "data": {
      "text/plain": [
       "7"
      ]
     },
     "execution_count": 121,
     "metadata": {},
     "output_type": "execute_result"
    }
   ],
   "source": [
    "t = test['input']['cards']\n",
    "t[f]"
   ]
  },
  {
   "cell_type": "code",
   "execution_count": 123,
   "id": "5d3e1e87",
   "metadata": {},
   "outputs": [],
   "source": [
    "cont = 'CONTINENT'"
   ]
  },
  {
   "cell_type": "code",
   "execution_count": 138,
   "id": "52cdb884",
   "metadata": {},
   "outputs": [],
   "source": [
    "OV = 'AEIOU'"
   ]
  },
  {
   "cell_type": "code",
   "execution_count": 126,
   "id": "245d71d7",
   "metadata": {},
   "outputs": [
    {
     "data": {
      "text/plain": [
       "'A'"
      ]
     },
     "execution_count": 126,
     "metadata": {},
     "output_type": "execute_result"
    }
   ],
   "source": [
    "OV[0]"
   ]
  },
  {
   "cell_type": "code",
   "execution_count": null,
   "id": "f3c869c0",
   "metadata": {},
   "outputs": [],
   "source": [
    "for i in cont:\n",
    "    i "
   ]
  },
  {
   "cell_type": "code",
   "execution_count": 134,
   "id": "49228ef8",
   "metadata": {},
   "outputs": [
    {
     "name": "stdout",
     "output_type": "stream",
     "text": [
      "6\n"
     ]
    }
   ],
   "source": [
    "t = 0\n",
    "for i in cont:\n",
    "    if i not in OV:\n",
    "        t += 1\n",
    "print(t)"
   ]
  },
  {
   "cell_type": "code",
   "execution_count": 133,
   "id": "fe038b4a",
   "metadata": {},
   "outputs": [
    {
     "data": {
      "text/plain": [
       "9"
      ]
     },
     "execution_count": 133,
     "metadata": {},
     "output_type": "execute_result"
    }
   ],
   "source": [
    "len(cont)"
   ]
  },
  {
   "cell_type": "code",
   "execution_count": 135,
   "id": "0dcae7c0",
   "metadata": {},
   "outputs": [],
   "source": [
    "x ='INDIA'"
   ]
  },
  {
   "cell_type": "code",
   "execution_count": 143,
   "id": "ae9efa1b",
   "metadata": {},
   "outputs": [],
   "source": [
    "y ='INTRADAY'"
   ]
  },
  {
   "cell_type": "code",
   "execution_count": 157,
   "id": "60afb648",
   "metadata": {},
   "outputs": [],
   "source": [
    "def digg_it(x,y):\n",
    "    t = 0\n",
    "    r = 0\n",
    "    u = 0\n",
    "    add = x+y\n",
    "    for a in add:\n",
    "        if a in OV:\n",
    "            t += 1\n",
    "        else:\n",
    "            r += 1\n",
    "        print (r)\n",
    "    for c in add:\n",
    "        if c not in OV:\n",
    "            u += 1\n",
    "        print (u)\n",
    "    return t, r, u\n",
    "            \n",
    "            \n",
    "    \n",
    "    "
   ]
  },
  {
   "cell_type": "code",
   "execution_count": 158,
   "id": "be0b83ee",
   "metadata": {},
   "outputs": [
    {
     "name": "stdout",
     "output_type": "stream",
     "text": [
      "0\n",
      "1\n",
      "2\n",
      "2\n",
      "2\n",
      "2\n",
      "3\n",
      "4\n",
      "5\n",
      "5\n",
      "6\n",
      "6\n",
      "7\n",
      "0\n",
      "1\n",
      "2\n",
      "2\n",
      "2\n",
      "2\n",
      "3\n",
      "4\n",
      "5\n",
      "5\n",
      "6\n",
      "6\n",
      "7\n"
     ]
    },
    {
     "data": {
      "text/plain": [
       "(6, 7, 7)"
      ]
     },
     "execution_count": 158,
     "metadata": {},
     "output_type": "execute_result"
    }
   ],
   "source": [
    "digg_it(x,y)"
   ]
  },
  {
   "cell_type": "code",
   "execution_count": 160,
   "id": "78b70b59",
   "metadata": {},
   "outputs": [],
   "source": [
    "def defu(x, y, z = 76):\n",
    "    t = z+y+x\n",
    "    return t"
   ]
  },
  {
   "cell_type": "code",
   "execution_count": 162,
   "id": "ac71ee3e",
   "metadata": {},
   "outputs": [
    {
     "data": {
      "text/plain": [
       "96"
      ]
     },
     "execution_count": 162,
     "metadata": {},
     "output_type": "execute_result"
    }
   ],
   "source": [
    "defu (10, 10)"
   ]
  },
  {
   "cell_type": "code",
   "execution_count": 1,
   "id": "4365c14d",
   "metadata": {},
   "outputs": [],
   "source": [
    "import pandas as pd"
   ]
  },
  {
   "cell_type": "code",
   "execution_count": 2,
   "id": "158b6c1c",
   "metadata": {},
   "outputs": [],
   "source": [
    "from urllib.request import urlretrieve"
   ]
  },
  {
   "cell_type": "code",
   "execution_count": 3,
   "id": "ddba84b2",
   "metadata": {},
   "outputs": [
    {
     "data": {
      "text/plain": [
       "('italy-covid-daywise.csv', <http.client.HTTPMessage at 0x16244808e50>)"
      ]
     },
     "execution_count": 3,
     "metadata": {},
     "output_type": "execute_result"
    }
   ],
   "source": [
    "italy_covid_url = 'https://gist.githubusercontent.com/aakashns/f6a004fa20c84fec53262f9a8bfee775/raw/f309558b1cf5103424cef58e2ecb8704dcd4d74c/italy-covid-daywise.csv'\n",
    "\n",
    "urlretrieve(italy_covid_url, 'italy-covid-daywise.csv')"
   ]
  },
  {
   "cell_type": "code",
   "execution_count": 4,
   "id": "04873072",
   "metadata": {},
   "outputs": [],
   "source": [
    "covid_df = pd.read_csv('italy-covid-daywise.csv')"
   ]
  },
  {
   "cell_type": "code",
   "execution_count": 19,
   "id": "00f6eac5",
   "metadata": {},
   "outputs": [],
   "source": [
    "covid_df1=covid_df"
   ]
  },
  {
   "cell_type": "code",
   "execution_count": 9,
   "id": "415497bc",
   "metadata": {},
   "outputs": [
    {
     "data": {
      "text/html": [
       "<div>\n",
       "<style scoped>\n",
       "    .dataframe tbody tr th:only-of-type {\n",
       "        vertical-align: middle;\n",
       "    }\n",
       "\n",
       "    .dataframe tbody tr th {\n",
       "        vertical-align: top;\n",
       "    }\n",
       "\n",
       "    .dataframe thead th {\n",
       "        text-align: right;\n",
       "    }\n",
       "</style>\n",
       "<table border=\"1\" class=\"dataframe\">\n",
       "  <thead>\n",
       "    <tr style=\"text-align: right;\">\n",
       "      <th></th>\n",
       "      <th>date</th>\n",
       "      <th>new_cases</th>\n",
       "      <th>new_deaths</th>\n",
       "      <th>new_tests</th>\n",
       "    </tr>\n",
       "  </thead>\n",
       "  <tbody>\n",
       "    <tr>\n",
       "      <th>82</th>\n",
       "      <td>2020-03-22</td>\n",
       "      <td>6557.0</td>\n",
       "      <td>795.0</td>\n",
       "      <td>NaN</td>\n",
       "    </tr>\n",
       "    <tr>\n",
       "      <th>87</th>\n",
       "      <td>2020-03-27</td>\n",
       "      <td>6153.0</td>\n",
       "      <td>660.0</td>\n",
       "      <td>NaN</td>\n",
       "    </tr>\n",
       "    <tr>\n",
       "      <th>81</th>\n",
       "      <td>2020-03-21</td>\n",
       "      <td>5986.0</td>\n",
       "      <td>625.0</td>\n",
       "      <td>NaN</td>\n",
       "    </tr>\n",
       "    <tr>\n",
       "      <th>89</th>\n",
       "      <td>2020-03-29</td>\n",
       "      <td>5974.0</td>\n",
       "      <td>887.0</td>\n",
       "      <td>NaN</td>\n",
       "    </tr>\n",
       "    <tr>\n",
       "      <th>88</th>\n",
       "      <td>2020-03-28</td>\n",
       "      <td>5959.0</td>\n",
       "      <td>971.0</td>\n",
       "      <td>NaN</td>\n",
       "    </tr>\n",
       "    <tr>\n",
       "      <th>83</th>\n",
       "      <td>2020-03-23</td>\n",
       "      <td>5560.0</td>\n",
       "      <td>649.0</td>\n",
       "      <td>NaN</td>\n",
       "    </tr>\n",
       "    <tr>\n",
       "      <th>80</th>\n",
       "      <td>2020-03-20</td>\n",
       "      <td>5322.0</td>\n",
       "      <td>429.0</td>\n",
       "      <td>NaN</td>\n",
       "    </tr>\n",
       "    <tr>\n",
       "      <th>85</th>\n",
       "      <td>2020-03-25</td>\n",
       "      <td>5249.0</td>\n",
       "      <td>743.0</td>\n",
       "      <td>NaN</td>\n",
       "    </tr>\n",
       "    <tr>\n",
       "      <th>90</th>\n",
       "      <td>2020-03-30</td>\n",
       "      <td>5217.0</td>\n",
       "      <td>758.0</td>\n",
       "      <td>NaN</td>\n",
       "    </tr>\n",
       "    <tr>\n",
       "      <th>86</th>\n",
       "      <td>2020-03-26</td>\n",
       "      <td>5210.0</td>\n",
       "      <td>685.0</td>\n",
       "      <td>NaN</td>\n",
       "    </tr>\n",
       "    <tr>\n",
       "      <th>96</th>\n",
       "      <td>2020-04-05</td>\n",
       "      <td>4805.0</td>\n",
       "      <td>681.0</td>\n",
       "      <td>NaN</td>\n",
       "    </tr>\n",
       "    <tr>\n",
       "      <th>84</th>\n",
       "      <td>2020-03-24</td>\n",
       "      <td>4789.0</td>\n",
       "      <td>601.0</td>\n",
       "      <td>NaN</td>\n",
       "    </tr>\n",
       "    <tr>\n",
       "      <th>93</th>\n",
       "      <td>2020-04-02</td>\n",
       "      <td>4782.0</td>\n",
       "      <td>727.0</td>\n",
       "      <td>NaN</td>\n",
       "    </tr>\n",
       "    <tr>\n",
       "      <th>103</th>\n",
       "      <td>2020-04-12</td>\n",
       "      <td>4694.0</td>\n",
       "      <td>619.0</td>\n",
       "      <td>NaN</td>\n",
       "    </tr>\n",
       "    <tr>\n",
       "      <th>94</th>\n",
       "      <td>2020-04-03</td>\n",
       "      <td>4668.0</td>\n",
       "      <td>760.0</td>\n",
       "      <td>NaN</td>\n",
       "    </tr>\n",
       "    <tr>\n",
       "      <th>95</th>\n",
       "      <td>2020-04-04</td>\n",
       "      <td>4585.0</td>\n",
       "      <td>764.0</td>\n",
       "      <td>NaN</td>\n",
       "    </tr>\n",
       "    <tr>\n",
       "      <th>97</th>\n",
       "      <td>2020-04-06</td>\n",
       "      <td>4316.0</td>\n",
       "      <td>527.0</td>\n",
       "      <td>NaN</td>\n",
       "    </tr>\n",
       "    <tr>\n",
       "      <th>79</th>\n",
       "      <td>2020-03-19</td>\n",
       "      <td>4207.0</td>\n",
       "      <td>473.0</td>\n",
       "      <td>NaN</td>\n",
       "    </tr>\n",
       "    <tr>\n",
       "      <th>101</th>\n",
       "      <td>2020-04-10</td>\n",
       "      <td>4204.0</td>\n",
       "      <td>612.0</td>\n",
       "      <td>NaN</td>\n",
       "    </tr>\n",
       "    <tr>\n",
       "      <th>104</th>\n",
       "      <td>2020-04-13</td>\n",
       "      <td>4092.0</td>\n",
       "      <td>431.0</td>\n",
       "      <td>NaN</td>\n",
       "    </tr>\n",
       "  </tbody>\n",
       "</table>\n",
       "</div>"
      ],
      "text/plain": [
       "           date  new_cases  new_deaths  new_tests\n",
       "82   2020-03-22     6557.0       795.0        NaN\n",
       "87   2020-03-27     6153.0       660.0        NaN\n",
       "81   2020-03-21     5986.0       625.0        NaN\n",
       "89   2020-03-29     5974.0       887.0        NaN\n",
       "88   2020-03-28     5959.0       971.0        NaN\n",
       "83   2020-03-23     5560.0       649.0        NaN\n",
       "80   2020-03-20     5322.0       429.0        NaN\n",
       "85   2020-03-25     5249.0       743.0        NaN\n",
       "90   2020-03-30     5217.0       758.0        NaN\n",
       "86   2020-03-26     5210.0       685.0        NaN\n",
       "96   2020-04-05     4805.0       681.0        NaN\n",
       "84   2020-03-24     4789.0       601.0        NaN\n",
       "93   2020-04-02     4782.0       727.0        NaN\n",
       "103  2020-04-12     4694.0       619.0        NaN\n",
       "94   2020-04-03     4668.0       760.0        NaN\n",
       "95   2020-04-04     4585.0       764.0        NaN\n",
       "97   2020-04-06     4316.0       527.0        NaN\n",
       "79   2020-03-19     4207.0       473.0        NaN\n",
       "101  2020-04-10     4204.0       612.0        NaN\n",
       "104  2020-04-13     4092.0       431.0        NaN"
      ]
     },
     "execution_count": 9,
     "metadata": {},
     "output_type": "execute_result"
    }
   ],
   "source": [
    "t=covid_df.sort_values(by='new_cases',ascending=False).head(20)\n",
    "t"
   ]
  },
  {
   "cell_type": "code",
   "execution_count": 10,
   "id": "e40334e3",
   "metadata": {},
   "outputs": [
    {
     "data": {
      "text/html": [
       "<div>\n",
       "<style scoped>\n",
       "    .dataframe tbody tr th:only-of-type {\n",
       "        vertical-align: middle;\n",
       "    }\n",
       "\n",
       "    .dataframe tbody tr th {\n",
       "        vertical-align: top;\n",
       "    }\n",
       "\n",
       "    .dataframe thead th {\n",
       "        text-align: right;\n",
       "    }\n",
       "</style>\n",
       "<table border=\"1\" class=\"dataframe\">\n",
       "  <thead>\n",
       "    <tr style=\"text-align: right;\">\n",
       "      <th></th>\n",
       "      <th>date</th>\n",
       "      <th>new_cases</th>\n",
       "      <th>new_deaths</th>\n",
       "      <th>new_tests</th>\n",
       "    </tr>\n",
       "  </thead>\n",
       "  <tbody>\n",
       "    <tr>\n",
       "      <th>172</th>\n",
       "      <td>2020-06-20</td>\n",
       "      <td>-148.0</td>\n",
       "      <td>47.0</td>\n",
       "      <td>29875.0</td>\n",
       "    </tr>\n",
       "    <tr>\n",
       "      <th>0</th>\n",
       "      <td>2019-12-31</td>\n",
       "      <td>0.0</td>\n",
       "      <td>0.0</td>\n",
       "      <td>NaN</td>\n",
       "    </tr>\n",
       "    <tr>\n",
       "      <th>29</th>\n",
       "      <td>2020-01-29</td>\n",
       "      <td>0.0</td>\n",
       "      <td>0.0</td>\n",
       "      <td>NaN</td>\n",
       "    </tr>\n",
       "    <tr>\n",
       "      <th>30</th>\n",
       "      <td>2020-01-30</td>\n",
       "      <td>0.0</td>\n",
       "      <td>0.0</td>\n",
       "      <td>NaN</td>\n",
       "    </tr>\n",
       "    <tr>\n",
       "      <th>32</th>\n",
       "      <td>2020-02-01</td>\n",
       "      <td>0.0</td>\n",
       "      <td>0.0</td>\n",
       "      <td>NaN</td>\n",
       "    </tr>\n",
       "    <tr>\n",
       "      <th>33</th>\n",
       "      <td>2020-02-02</td>\n",
       "      <td>0.0</td>\n",
       "      <td>0.0</td>\n",
       "      <td>NaN</td>\n",
       "    </tr>\n",
       "    <tr>\n",
       "      <th>34</th>\n",
       "      <td>2020-02-03</td>\n",
       "      <td>0.0</td>\n",
       "      <td>0.0</td>\n",
       "      <td>NaN</td>\n",
       "    </tr>\n",
       "    <tr>\n",
       "      <th>36</th>\n",
       "      <td>2020-02-05</td>\n",
       "      <td>0.0</td>\n",
       "      <td>0.0</td>\n",
       "      <td>NaN</td>\n",
       "    </tr>\n",
       "    <tr>\n",
       "      <th>37</th>\n",
       "      <td>2020-02-06</td>\n",
       "      <td>0.0</td>\n",
       "      <td>0.0</td>\n",
       "      <td>NaN</td>\n",
       "    </tr>\n",
       "    <tr>\n",
       "      <th>38</th>\n",
       "      <td>2020-02-07</td>\n",
       "      <td>0.0</td>\n",
       "      <td>0.0</td>\n",
       "      <td>NaN</td>\n",
       "    </tr>\n",
       "    <tr>\n",
       "      <th>39</th>\n",
       "      <td>2020-02-08</td>\n",
       "      <td>0.0</td>\n",
       "      <td>0.0</td>\n",
       "      <td>NaN</td>\n",
       "    </tr>\n",
       "    <tr>\n",
       "      <th>40</th>\n",
       "      <td>2020-02-09</td>\n",
       "      <td>0.0</td>\n",
       "      <td>0.0</td>\n",
       "      <td>NaN</td>\n",
       "    </tr>\n",
       "    <tr>\n",
       "      <th>41</th>\n",
       "      <td>2020-02-10</td>\n",
       "      <td>0.0</td>\n",
       "      <td>0.0</td>\n",
       "      <td>NaN</td>\n",
       "    </tr>\n",
       "    <tr>\n",
       "      <th>42</th>\n",
       "      <td>2020-02-11</td>\n",
       "      <td>0.0</td>\n",
       "      <td>0.0</td>\n",
       "      <td>NaN</td>\n",
       "    </tr>\n",
       "    <tr>\n",
       "      <th>43</th>\n",
       "      <td>2020-02-12</td>\n",
       "      <td>0.0</td>\n",
       "      <td>0.0</td>\n",
       "      <td>NaN</td>\n",
       "    </tr>\n",
       "    <tr>\n",
       "      <th>44</th>\n",
       "      <td>2020-02-13</td>\n",
       "      <td>0.0</td>\n",
       "      <td>0.0</td>\n",
       "      <td>NaN</td>\n",
       "    </tr>\n",
       "    <tr>\n",
       "      <th>45</th>\n",
       "      <td>2020-02-14</td>\n",
       "      <td>0.0</td>\n",
       "      <td>0.0</td>\n",
       "      <td>NaN</td>\n",
       "    </tr>\n",
       "    <tr>\n",
       "      <th>46</th>\n",
       "      <td>2020-02-15</td>\n",
       "      <td>0.0</td>\n",
       "      <td>0.0</td>\n",
       "      <td>NaN</td>\n",
       "    </tr>\n",
       "    <tr>\n",
       "      <th>47</th>\n",
       "      <td>2020-02-16</td>\n",
       "      <td>0.0</td>\n",
       "      <td>0.0</td>\n",
       "      <td>NaN</td>\n",
       "    </tr>\n",
       "    <tr>\n",
       "      <th>48</th>\n",
       "      <td>2020-02-17</td>\n",
       "      <td>0.0</td>\n",
       "      <td>0.0</td>\n",
       "      <td>NaN</td>\n",
       "    </tr>\n",
       "  </tbody>\n",
       "</table>\n",
       "</div>"
      ],
      "text/plain": [
       "           date  new_cases  new_deaths  new_tests\n",
       "172  2020-06-20     -148.0        47.0    29875.0\n",
       "0    2019-12-31        0.0         0.0        NaN\n",
       "29   2020-01-29        0.0         0.0        NaN\n",
       "30   2020-01-30        0.0         0.0        NaN\n",
       "32   2020-02-01        0.0         0.0        NaN\n",
       "33   2020-02-02        0.0         0.0        NaN\n",
       "34   2020-02-03        0.0         0.0        NaN\n",
       "36   2020-02-05        0.0         0.0        NaN\n",
       "37   2020-02-06        0.0         0.0        NaN\n",
       "38   2020-02-07        0.0         0.0        NaN\n",
       "39   2020-02-08        0.0         0.0        NaN\n",
       "40   2020-02-09        0.0         0.0        NaN\n",
       "41   2020-02-10        0.0         0.0        NaN\n",
       "42   2020-02-11        0.0         0.0        NaN\n",
       "43   2020-02-12        0.0         0.0        NaN\n",
       "44   2020-02-13        0.0         0.0        NaN\n",
       "45   2020-02-14        0.0         0.0        NaN\n",
       "46   2020-02-15        0.0         0.0        NaN\n",
       "47   2020-02-16        0.0         0.0        NaN\n",
       "48   2020-02-17        0.0         0.0        NaN"
      ]
     },
     "execution_count": 10,
     "metadata": {},
     "output_type": "execute_result"
    }
   ],
   "source": [
    "t=covid_df.sort_values(by='new_cases',ascending=True).head(20)\n",
    "t"
   ]
  },
  {
   "cell_type": "code",
   "execution_count": 22,
   "id": "7c35ccdc",
   "metadata": {},
   "outputs": [
    {
     "data": {
      "text/html": [
       "<div>\n",
       "<style scoped>\n",
       "    .dataframe tbody tr th:only-of-type {\n",
       "        vertical-align: middle;\n",
       "    }\n",
       "\n",
       "    .dataframe tbody tr th {\n",
       "        vertical-align: top;\n",
       "    }\n",
       "\n",
       "    .dataframe thead th {\n",
       "        text-align: right;\n",
       "    }\n",
       "</style>\n",
       "<table border=\"1\" class=\"dataframe\">\n",
       "  <thead>\n",
       "    <tr style=\"text-align: right;\">\n",
       "      <th></th>\n",
       "      <th>date</th>\n",
       "      <th>new_cases</th>\n",
       "      <th>new_deaths</th>\n",
       "      <th>new_tests</th>\n",
       "    </tr>\n",
       "  </thead>\n",
       "  <tbody>\n",
       "    <tr>\n",
       "      <th>0</th>\n",
       "      <td>2019-12-31</td>\n",
       "      <td>0.0</td>\n",
       "      <td>0.0</td>\n",
       "      <td>NaN</td>\n",
       "    </tr>\n",
       "    <tr>\n",
       "      <th>1</th>\n",
       "      <td>2020-01-01</td>\n",
       "      <td>0.0</td>\n",
       "      <td>0.0</td>\n",
       "      <td>NaN</td>\n",
       "    </tr>\n",
       "    <tr>\n",
       "      <th>2</th>\n",
       "      <td>2020-01-02</td>\n",
       "      <td>0.0</td>\n",
       "      <td>0.0</td>\n",
       "      <td>NaN</td>\n",
       "    </tr>\n",
       "    <tr>\n",
       "      <th>3</th>\n",
       "      <td>2020-01-03</td>\n",
       "      <td>0.0</td>\n",
       "      <td>0.0</td>\n",
       "      <td>NaN</td>\n",
       "    </tr>\n",
       "    <tr>\n",
       "      <th>4</th>\n",
       "      <td>2020-01-04</td>\n",
       "      <td>0.0</td>\n",
       "      <td>0.0</td>\n",
       "      <td>NaN</td>\n",
       "    </tr>\n",
       "    <tr>\n",
       "      <th>...</th>\n",
       "      <td>...</td>\n",
       "      <td>...</td>\n",
       "      <td>...</td>\n",
       "      <td>...</td>\n",
       "    </tr>\n",
       "    <tr>\n",
       "      <th>243</th>\n",
       "      <td>2020-08-30</td>\n",
       "      <td>1444.0</td>\n",
       "      <td>1.0</td>\n",
       "      <td>53541.0</td>\n",
       "    </tr>\n",
       "    <tr>\n",
       "      <th>244</th>\n",
       "      <td>2020-08-31</td>\n",
       "      <td>1365.0</td>\n",
       "      <td>4.0</td>\n",
       "      <td>42583.0</td>\n",
       "    </tr>\n",
       "    <tr>\n",
       "      <th>245</th>\n",
       "      <td>2020-09-01</td>\n",
       "      <td>996.0</td>\n",
       "      <td>6.0</td>\n",
       "      <td>54395.0</td>\n",
       "    </tr>\n",
       "    <tr>\n",
       "      <th>246</th>\n",
       "      <td>2020-09-02</td>\n",
       "      <td>975.0</td>\n",
       "      <td>8.0</td>\n",
       "      <td>NaN</td>\n",
       "    </tr>\n",
       "    <tr>\n",
       "      <th>247</th>\n",
       "      <td>2020-09-03</td>\n",
       "      <td>1326.0</td>\n",
       "      <td>6.0</td>\n",
       "      <td>NaN</td>\n",
       "    </tr>\n",
       "  </tbody>\n",
       "</table>\n",
       "<p>248 rows × 4 columns</p>\n",
       "</div>"
      ],
      "text/plain": [
       "           date  new_cases  new_deaths  new_tests\n",
       "0    2019-12-31        0.0         0.0        NaN\n",
       "1    2020-01-01        0.0         0.0        NaN\n",
       "2    2020-01-02        0.0         0.0        NaN\n",
       "3    2020-01-03        0.0         0.0        NaN\n",
       "4    2020-01-04        0.0         0.0        NaN\n",
       "..          ...        ...         ...        ...\n",
       "243  2020-08-30     1444.0         1.0    53541.0\n",
       "244  2020-08-31     1365.0         4.0    42583.0\n",
       "245  2020-09-01      996.0         6.0    54395.0\n",
       "246  2020-09-02      975.0         8.0        NaN\n",
       "247  2020-09-03     1326.0         6.0        NaN\n",
       "\n",
       "[248 rows x 4 columns]"
      ]
     },
     "execution_count": 22,
     "metadata": {},
     "output_type": "execute_result"
    }
   ],
   "source": [
    "covid_df1"
   ]
  },
  {
   "cell_type": "code",
   "execution_count": 26,
   "id": "7ef926c1",
   "metadata": {},
   "outputs": [
    {
     "ename": "ValueError",
     "evalue": "Length of values (3) does not match length of index (248)",
     "output_type": "error",
     "traceback": [
      "\u001b[1;31m---------------------------------------------------------------------------\u001b[0m",
      "\u001b[1;31mValueError\u001b[0m                                Traceback (most recent call last)",
      "\u001b[1;32m~\\AppData\\Local\\Temp/ipykernel_7884/1399883074.py\u001b[0m in \u001b[0;36m<module>\u001b[1;34m\u001b[0m\n\u001b[1;32m----> 1\u001b[1;33m \u001b[0mcovid_df1\u001b[0m\u001b[1;33m.\u001b[0m\u001b[0minsert\u001b[0m\u001b[1;33m(\u001b[0m\u001b[1;36m0\u001b[0m\u001b[1;33m,\u001b[0m\u001b[1;34m'trial'\u001b[0m\u001b[1;33m,\u001b[0m\u001b[1;33m[\u001b[0m\u001b[1;36m1\u001b[0m\u001b[1;33m,\u001b[0m\u001b[1;36m2\u001b[0m\u001b[1;33m,\u001b[0m\u001b[1;36m3\u001b[0m\u001b[1;33m]\u001b[0m\u001b[1;33m)\u001b[0m\u001b[1;33m\u001b[0m\u001b[1;33m\u001b[0m\u001b[0m\n\u001b[0m",
      "\u001b[1;32m~\\anaconda3\\lib\\site-packages\\pandas\\core\\frame.py\u001b[0m in \u001b[0;36minsert\u001b[1;34m(self, loc, column, value, allow_duplicates)\u001b[0m\n\u001b[0;32m   4442\u001b[0m             \u001b[1;32mraise\u001b[0m \u001b[0mTypeError\u001b[0m\u001b[1;33m(\u001b[0m\u001b[1;34m\"loc must be int\"\u001b[0m\u001b[1;33m)\u001b[0m\u001b[1;33m\u001b[0m\u001b[1;33m\u001b[0m\u001b[0m\n\u001b[0;32m   4443\u001b[0m \u001b[1;33m\u001b[0m\u001b[0m\n\u001b[1;32m-> 4444\u001b[1;33m         \u001b[0mvalue\u001b[0m \u001b[1;33m=\u001b[0m \u001b[0mself\u001b[0m\u001b[1;33m.\u001b[0m\u001b[0m_sanitize_column\u001b[0m\u001b[1;33m(\u001b[0m\u001b[0mvalue\u001b[0m\u001b[1;33m)\u001b[0m\u001b[1;33m\u001b[0m\u001b[1;33m\u001b[0m\u001b[0m\n\u001b[0m\u001b[0;32m   4445\u001b[0m         \u001b[0mself\u001b[0m\u001b[1;33m.\u001b[0m\u001b[0m_mgr\u001b[0m\u001b[1;33m.\u001b[0m\u001b[0minsert\u001b[0m\u001b[1;33m(\u001b[0m\u001b[0mloc\u001b[0m\u001b[1;33m,\u001b[0m \u001b[0mcolumn\u001b[0m\u001b[1;33m,\u001b[0m \u001b[0mvalue\u001b[0m\u001b[1;33m)\u001b[0m\u001b[1;33m\u001b[0m\u001b[1;33m\u001b[0m\u001b[0m\n\u001b[0;32m   4446\u001b[0m \u001b[1;33m\u001b[0m\u001b[0m\n",
      "\u001b[1;32m~\\anaconda3\\lib\\site-packages\\pandas\\core\\frame.py\u001b[0m in \u001b[0;36m_sanitize_column\u001b[1;34m(self, value)\u001b[0m\n\u001b[0;32m   4533\u001b[0m \u001b[1;33m\u001b[0m\u001b[0m\n\u001b[0;32m   4534\u001b[0m         \u001b[1;32mif\u001b[0m \u001b[0mis_list_like\u001b[0m\u001b[1;33m(\u001b[0m\u001b[0mvalue\u001b[0m\u001b[1;33m)\u001b[0m\u001b[1;33m:\u001b[0m\u001b[1;33m\u001b[0m\u001b[1;33m\u001b[0m\u001b[0m\n\u001b[1;32m-> 4535\u001b[1;33m             \u001b[0mcom\u001b[0m\u001b[1;33m.\u001b[0m\u001b[0mrequire_length_match\u001b[0m\u001b[1;33m(\u001b[0m\u001b[0mvalue\u001b[0m\u001b[1;33m,\u001b[0m \u001b[0mself\u001b[0m\u001b[1;33m.\u001b[0m\u001b[0mindex\u001b[0m\u001b[1;33m)\u001b[0m\u001b[1;33m\u001b[0m\u001b[1;33m\u001b[0m\u001b[0m\n\u001b[0m\u001b[0;32m   4536\u001b[0m         \u001b[1;32mreturn\u001b[0m \u001b[0msanitize_array\u001b[0m\u001b[1;33m(\u001b[0m\u001b[0mvalue\u001b[0m\u001b[1;33m,\u001b[0m \u001b[0mself\u001b[0m\u001b[1;33m.\u001b[0m\u001b[0mindex\u001b[0m\u001b[1;33m,\u001b[0m \u001b[0mcopy\u001b[0m\u001b[1;33m=\u001b[0m\u001b[1;32mTrue\u001b[0m\u001b[1;33m,\u001b[0m \u001b[0mallow_2d\u001b[0m\u001b[1;33m=\u001b[0m\u001b[1;32mTrue\u001b[0m\u001b[1;33m)\u001b[0m\u001b[1;33m\u001b[0m\u001b[1;33m\u001b[0m\u001b[0m\n\u001b[0;32m   4537\u001b[0m \u001b[1;33m\u001b[0m\u001b[0m\n",
      "\u001b[1;32m~\\anaconda3\\lib\\site-packages\\pandas\\core\\common.py\u001b[0m in \u001b[0;36mrequire_length_match\u001b[1;34m(data, index)\u001b[0m\n\u001b[0;32m    555\u001b[0m     \"\"\"\n\u001b[0;32m    556\u001b[0m     \u001b[1;32mif\u001b[0m \u001b[0mlen\u001b[0m\u001b[1;33m(\u001b[0m\u001b[0mdata\u001b[0m\u001b[1;33m)\u001b[0m \u001b[1;33m!=\u001b[0m \u001b[0mlen\u001b[0m\u001b[1;33m(\u001b[0m\u001b[0mindex\u001b[0m\u001b[1;33m)\u001b[0m\u001b[1;33m:\u001b[0m\u001b[1;33m\u001b[0m\u001b[1;33m\u001b[0m\u001b[0m\n\u001b[1;32m--> 557\u001b[1;33m         raise ValueError(\n\u001b[0m\u001b[0;32m    558\u001b[0m             \u001b[1;34m\"Length of values \"\u001b[0m\u001b[1;33m\u001b[0m\u001b[1;33m\u001b[0m\u001b[0m\n\u001b[0;32m    559\u001b[0m             \u001b[1;34mf\"({len(data)}) \"\u001b[0m\u001b[1;33m\u001b[0m\u001b[1;33m\u001b[0m\u001b[0m\n",
      "\u001b[1;31mValueError\u001b[0m: Length of values (3) does not match length of index (248)"
     ]
    }
   ],
   "source": [
    "covid_df1.insert(0,'trial',[1,2,3])"
   ]
  },
  {
   "cell_type": "code",
   "execution_count": 37,
   "id": "347b8a68",
   "metadata": {},
   "outputs": [],
   "source": [
    "def url (x):\n",
    "    Dataframe = pd.read_csv(x)\n",
    "    dataframe"
   ]
  },
  {
   "cell_type": "code",
   "execution_count": 30,
   "id": "f0922365",
   "metadata": {},
   "outputs": [],
   "source": [
    "dataframe=url('https://gist.githubusercontent.com/aakashns/b83c25b654bdf20c085382f3d28bb15c/raw/046a19a942ef5a96d33c2e7b2dc5a9ce1a35e868/india_per_capita_gdp_by_state.csv')"
   ]
  },
  {
   "cell_type": "code",
   "execution_count": 31,
   "id": "d6ab75f0",
   "metadata": {},
   "outputs": [],
   "source": [
    "dataframe"
   ]
  },
  {
   "cell_type": "code",
   "execution_count": 10,
   "id": "ce3e8c22",
   "metadata": {},
   "outputs": [],
   "source": [
    "population = dataframe['population']\n",
    "gdp_per_capita = dataframe['gdp_per_capita']"
   ]
  },
  {
   "cell_type": "code",
   "execution_count": 11,
   "id": "0da42810",
   "metadata": {},
   "outputs": [],
   "source": [
    "salaries = [22000, 21000, 26000, 31000, 19000, 21500, 800000, 24500, 25000, 24000]"
   ]
  },
  {
   "cell_type": "code",
   "execution_count": 12,
   "id": "3565f812",
   "metadata": {},
   "outputs": [],
   "source": [
    "def median(nums):\n",
    "    # write code here\n",
    "    pass"
   ]
  },
  {
   "cell_type": "code",
   "execution_count": 13,
   "id": "5c596fb1",
   "metadata": {},
   "outputs": [],
   "source": [
    "nums1 = [3, 7, 10, 55, 97]\n",
    "nums2 = [3,5,21,33,42,300]"
   ]
  },
  {
   "cell_type": "code",
   "execution_count": 14,
   "id": "6f35ff9d",
   "metadata": {},
   "outputs": [],
   "source": [
    "median(nums1)\n",
    "median(nums2)"
   ]
  },
  {
   "cell_type": "code",
   "execution_count": 15,
   "id": "45c3649b",
   "metadata": {},
   "outputs": [
    {
     "data": {
      "text/plain": [
       "10.0"
      ]
     },
     "execution_count": 15,
     "metadata": {},
     "output_type": "execute_result"
    }
   ],
   "source": [
    "np.median(nums1)"
   ]
  },
  {
   "cell_type": "code",
   "execution_count": 16,
   "id": "6e0516ce",
   "metadata": {},
   "outputs": [
    {
     "data": {
      "text/plain": [
       "27.0"
      ]
     },
     "execution_count": 16,
     "metadata": {},
     "output_type": "execute_result"
    }
   ],
   "source": [
    "np.median(nums2)"
   ]
  },
  {
   "cell_type": "code",
   "execution_count": 41,
   "id": "56608f95",
   "metadata": {},
   "outputs": [],
   "source": [
    "url('https://gist.githubusercontent.com/aakashns/5596c1d2d22d3c1ac287c8bf89d76a05/raw/990fdd64d99cf5586fe19c83daf72988fb4a4746/billionaires.csv')"
   ]
  },
  {
   "cell_type": "code",
   "execution_count": 42,
   "id": "73bb040e",
   "metadata": {},
   "outputs": [],
   "source": [
    "richest_url = 'https://gist.githubusercontent.com/aakashns/5596c1d2d22d3c1ac287c8bf89d76a05/raw/990fdd64d99cf5586fe19c83daf72988fb4a4746/billionaires.csv'"
   ]
  },
  {
   "cell_type": "code",
   "execution_count": 43,
   "id": "74ab3390",
   "metadata": {},
   "outputs": [],
   "source": [
    "dataframe = pd.read_csv(richest_url)"
   ]
  },
  {
   "cell_type": "code",
   "execution_count": 44,
   "id": "21165939",
   "metadata": {},
   "outputs": [
    {
     "data": {
      "text/html": [
       "<div>\n",
       "<style scoped>\n",
       "    .dataframe tbody tr th:only-of-type {\n",
       "        vertical-align: middle;\n",
       "    }\n",
       "\n",
       "    .dataframe tbody tr th {\n",
       "        vertical-align: top;\n",
       "    }\n",
       "\n",
       "    .dataframe thead th {\n",
       "        text-align: right;\n",
       "    }\n",
       "</style>\n",
       "<table border=\"1\" class=\"dataframe\">\n",
       "  <thead>\n",
       "    <tr style=\"text-align: right;\">\n",
       "      <th></th>\n",
       "      <th>rank</th>\n",
       "      <th>name</th>\n",
       "      <th>net_worth_billions_usd</th>\n",
       "      <th>age</th>\n",
       "      <th>country</th>\n",
       "      <th>source</th>\n",
       "      <th>industries</th>\n",
       "    </tr>\n",
       "  </thead>\n",
       "  <tbody>\n",
       "    <tr>\n",
       "      <th>0</th>\n",
       "      <td>1</td>\n",
       "      <td>JEFF BEZOS</td>\n",
       "      <td>113.0</td>\n",
       "      <td>56</td>\n",
       "      <td>United States</td>\n",
       "      <td>Amazon</td>\n",
       "      <td>Technology</td>\n",
       "    </tr>\n",
       "    <tr>\n",
       "      <th>1</th>\n",
       "      <td>2</td>\n",
       "      <td>BILL GATES</td>\n",
       "      <td>98.0</td>\n",
       "      <td>64</td>\n",
       "      <td>United States</td>\n",
       "      <td>Microsoft</td>\n",
       "      <td>Technology</td>\n",
       "    </tr>\n",
       "    <tr>\n",
       "      <th>2</th>\n",
       "      <td>3</td>\n",
       "      <td>BERNARD ARNAULT &amp; FAMILY</td>\n",
       "      <td>76.0</td>\n",
       "      <td>71</td>\n",
       "      <td>France</td>\n",
       "      <td>LVMH</td>\n",
       "      <td>Fashion &amp; Retail</td>\n",
       "    </tr>\n",
       "    <tr>\n",
       "      <th>3</th>\n",
       "      <td>4</td>\n",
       "      <td>WARREN BUFFETT</td>\n",
       "      <td>67.5</td>\n",
       "      <td>89</td>\n",
       "      <td>United States</td>\n",
       "      <td>Berkshire Hathaway</td>\n",
       "      <td>Finance &amp; Investments</td>\n",
       "    </tr>\n",
       "    <tr>\n",
       "      <th>4</th>\n",
       "      <td>5</td>\n",
       "      <td>LARRY ELLISON</td>\n",
       "      <td>59.0</td>\n",
       "      <td>75</td>\n",
       "      <td>United States</td>\n",
       "      <td>software</td>\n",
       "      <td>Technology</td>\n",
       "    </tr>\n",
       "    <tr>\n",
       "      <th>...</th>\n",
       "      <td>...</td>\n",
       "      <td>...</td>\n",
       "      <td>...</td>\n",
       "      <td>...</td>\n",
       "      <td>...</td>\n",
       "      <td>...</td>\n",
       "      <td>...</td>\n",
       "    </tr>\n",
       "    <tr>\n",
       "      <th>95</th>\n",
       "      <td>96</td>\n",
       "      <td>LI SHUFU</td>\n",
       "      <td>12.4</td>\n",
       "      <td>56</td>\n",
       "      <td>China</td>\n",
       "      <td>automobiles</td>\n",
       "      <td>Automotive</td>\n",
       "    </tr>\n",
       "    <tr>\n",
       "      <th>96</th>\n",
       "      <td>96</td>\n",
       "      <td>HASSO PLATTNER &amp; FAMILY</td>\n",
       "      <td>12.4</td>\n",
       "      <td>76</td>\n",
       "      <td>Germany</td>\n",
       "      <td>software</td>\n",
       "      <td>Technology</td>\n",
       "    </tr>\n",
       "    <tr>\n",
       "      <th>97</th>\n",
       "      <td>98</td>\n",
       "      <td>LIU YONGHAO &amp; FAMILY</td>\n",
       "      <td>12.3</td>\n",
       "      <td>68</td>\n",
       "      <td>China</td>\n",
       "      <td>agribusiness</td>\n",
       "      <td>Service</td>\n",
       "    </tr>\n",
       "    <tr>\n",
       "      <th>98</th>\n",
       "      <td>98</td>\n",
       "      <td>STEFAN QUANDT</td>\n",
       "      <td>12.3</td>\n",
       "      <td>53</td>\n",
       "      <td>Germany</td>\n",
       "      <td>BMW</td>\n",
       "      <td>Automotive</td>\n",
       "    </tr>\n",
       "    <tr>\n",
       "      <th>99</th>\n",
       "      <td>100</td>\n",
       "      <td>KEN GRIFFIN</td>\n",
       "      <td>12.1</td>\n",
       "      <td>51</td>\n",
       "      <td>United States</td>\n",
       "      <td>hedge funds</td>\n",
       "      <td>Finance &amp; Investments</td>\n",
       "    </tr>\n",
       "  </tbody>\n",
       "</table>\n",
       "<p>100 rows × 7 columns</p>\n",
       "</div>"
      ],
      "text/plain": [
       "    rank                      name  net_worth_billions_usd  age  \\\n",
       "0      1                JEFF BEZOS                   113.0   56   \n",
       "1      2                BILL GATES                    98.0   64   \n",
       "2      3  BERNARD ARNAULT & FAMILY                    76.0   71   \n",
       "3      4            WARREN BUFFETT                    67.5   89   \n",
       "4      5             LARRY ELLISON                    59.0   75   \n",
       "..   ...                       ...                     ...  ...   \n",
       "95    96                  LI SHUFU                    12.4   56   \n",
       "96    96   HASSO PLATTNER & FAMILY                    12.4   76   \n",
       "97    98      LIU YONGHAO & FAMILY                    12.3   68   \n",
       "98    98             STEFAN QUANDT                    12.3   53   \n",
       "99   100               KEN GRIFFIN                    12.1   51   \n",
       "\n",
       "          country              source             industries  \n",
       "0   United States              Amazon             Technology  \n",
       "1   United States           Microsoft             Technology  \n",
       "2          France                LVMH       Fashion & Retail  \n",
       "3   United States  Berkshire Hathaway  Finance & Investments  \n",
       "4   United States            software             Technology  \n",
       "..            ...                 ...                    ...  \n",
       "95          China         automobiles             Automotive  \n",
       "96        Germany            software             Technology  \n",
       "97          China        agribusiness                Service  \n",
       "98        Germany                 BMW             Automotive  \n",
       "99  United States         hedge funds  Finance & Investments  \n",
       "\n",
       "[100 rows x 7 columns]"
      ]
     },
     "execution_count": 44,
     "metadata": {},
     "output_type": "execute_result"
    }
   ],
   "source": [
    "dataframe"
   ]
  },
  {
   "cell_type": "code",
   "execution_count": 45,
   "id": "e562d7c8",
   "metadata": {},
   "outputs": [],
   "source": [
    "def median(x):\n",
    "    y = np.median(x)\n",
    "    return y"
   ]
  },
  {
   "cell_type": "code",
   "execution_count": 46,
   "id": "919f62b9",
   "metadata": {},
   "outputs": [],
   "source": [
    "net_worth = dataframe['net_worth_billions_usd']"
   ]
  },
  {
   "cell_type": "code",
   "execution_count": 47,
   "id": "c68a605c",
   "metadata": {},
   "outputs": [],
   "source": [
    "median_net_worth = median(net_worth)"
   ]
  },
  {
   "cell_type": "code",
   "execution_count": 48,
   "id": "fec64ad0",
   "metadata": {},
   "outputs": [
    {
     "data": {
      "text/plain": [
       "17.05"
      ]
     },
     "execution_count": 48,
     "metadata": {},
     "output_type": "execute_result"
    }
   ],
   "source": [
    "median_net_worth"
   ]
  },
  {
   "cell_type": "code",
   "execution_count": 49,
   "id": "b7497f68",
   "metadata": {},
   "outputs": [],
   "source": [
    "def url (x):\n",
    "    dataframe = pd.read_csv(x)\n",
    "    return dataframe"
   ]
  },
  {
   "cell_type": "code",
   "execution_count": 50,
   "id": "152a068c",
   "metadata": {},
   "outputs": [],
   "source": [
    "richest = url('https://gist.githubusercontent.com/aakashns/5596c1d2d22d3c1ac287c8bf89d76a05/raw/990fdd64d99cf5586fe19c83daf72988fb4a4746/billionaires.csv')"
   ]
  },
  {
   "cell_type": "code",
   "execution_count": 51,
   "id": "99bdc90a",
   "metadata": {},
   "outputs": [
    {
     "data": {
      "text/html": [
       "<div>\n",
       "<style scoped>\n",
       "    .dataframe tbody tr th:only-of-type {\n",
       "        vertical-align: middle;\n",
       "    }\n",
       "\n",
       "    .dataframe tbody tr th {\n",
       "        vertical-align: top;\n",
       "    }\n",
       "\n",
       "    .dataframe thead th {\n",
       "        text-align: right;\n",
       "    }\n",
       "</style>\n",
       "<table border=\"1\" class=\"dataframe\">\n",
       "  <thead>\n",
       "    <tr style=\"text-align: right;\">\n",
       "      <th></th>\n",
       "      <th>rank</th>\n",
       "      <th>name</th>\n",
       "      <th>net_worth_billions_usd</th>\n",
       "      <th>age</th>\n",
       "      <th>country</th>\n",
       "      <th>source</th>\n",
       "      <th>industries</th>\n",
       "    </tr>\n",
       "  </thead>\n",
       "  <tbody>\n",
       "    <tr>\n",
       "      <th>0</th>\n",
       "      <td>1</td>\n",
       "      <td>JEFF BEZOS</td>\n",
       "      <td>113.0</td>\n",
       "      <td>56</td>\n",
       "      <td>United States</td>\n",
       "      <td>Amazon</td>\n",
       "      <td>Technology</td>\n",
       "    </tr>\n",
       "    <tr>\n",
       "      <th>1</th>\n",
       "      <td>2</td>\n",
       "      <td>BILL GATES</td>\n",
       "      <td>98.0</td>\n",
       "      <td>64</td>\n",
       "      <td>United States</td>\n",
       "      <td>Microsoft</td>\n",
       "      <td>Technology</td>\n",
       "    </tr>\n",
       "    <tr>\n",
       "      <th>2</th>\n",
       "      <td>3</td>\n",
       "      <td>BERNARD ARNAULT &amp; FAMILY</td>\n",
       "      <td>76.0</td>\n",
       "      <td>71</td>\n",
       "      <td>France</td>\n",
       "      <td>LVMH</td>\n",
       "      <td>Fashion &amp; Retail</td>\n",
       "    </tr>\n",
       "    <tr>\n",
       "      <th>3</th>\n",
       "      <td>4</td>\n",
       "      <td>WARREN BUFFETT</td>\n",
       "      <td>67.5</td>\n",
       "      <td>89</td>\n",
       "      <td>United States</td>\n",
       "      <td>Berkshire Hathaway</td>\n",
       "      <td>Finance &amp; Investments</td>\n",
       "    </tr>\n",
       "    <tr>\n",
       "      <th>4</th>\n",
       "      <td>5</td>\n",
       "      <td>LARRY ELLISON</td>\n",
       "      <td>59.0</td>\n",
       "      <td>75</td>\n",
       "      <td>United States</td>\n",
       "      <td>software</td>\n",
       "      <td>Technology</td>\n",
       "    </tr>\n",
       "    <tr>\n",
       "      <th>...</th>\n",
       "      <td>...</td>\n",
       "      <td>...</td>\n",
       "      <td>...</td>\n",
       "      <td>...</td>\n",
       "      <td>...</td>\n",
       "      <td>...</td>\n",
       "      <td>...</td>\n",
       "    </tr>\n",
       "    <tr>\n",
       "      <th>95</th>\n",
       "      <td>96</td>\n",
       "      <td>LI SHUFU</td>\n",
       "      <td>12.4</td>\n",
       "      <td>56</td>\n",
       "      <td>China</td>\n",
       "      <td>automobiles</td>\n",
       "      <td>Automotive</td>\n",
       "    </tr>\n",
       "    <tr>\n",
       "      <th>96</th>\n",
       "      <td>96</td>\n",
       "      <td>HASSO PLATTNER &amp; FAMILY</td>\n",
       "      <td>12.4</td>\n",
       "      <td>76</td>\n",
       "      <td>Germany</td>\n",
       "      <td>software</td>\n",
       "      <td>Technology</td>\n",
       "    </tr>\n",
       "    <tr>\n",
       "      <th>97</th>\n",
       "      <td>98</td>\n",
       "      <td>LIU YONGHAO &amp; FAMILY</td>\n",
       "      <td>12.3</td>\n",
       "      <td>68</td>\n",
       "      <td>China</td>\n",
       "      <td>agribusiness</td>\n",
       "      <td>Service</td>\n",
       "    </tr>\n",
       "    <tr>\n",
       "      <th>98</th>\n",
       "      <td>98</td>\n",
       "      <td>STEFAN QUANDT</td>\n",
       "      <td>12.3</td>\n",
       "      <td>53</td>\n",
       "      <td>Germany</td>\n",
       "      <td>BMW</td>\n",
       "      <td>Automotive</td>\n",
       "    </tr>\n",
       "    <tr>\n",
       "      <th>99</th>\n",
       "      <td>100</td>\n",
       "      <td>KEN GRIFFIN</td>\n",
       "      <td>12.1</td>\n",
       "      <td>51</td>\n",
       "      <td>United States</td>\n",
       "      <td>hedge funds</td>\n",
       "      <td>Finance &amp; Investments</td>\n",
       "    </tr>\n",
       "  </tbody>\n",
       "</table>\n",
       "<p>100 rows × 7 columns</p>\n",
       "</div>"
      ],
      "text/plain": [
       "    rank                      name  net_worth_billions_usd  age  \\\n",
       "0      1                JEFF BEZOS                   113.0   56   \n",
       "1      2                BILL GATES                    98.0   64   \n",
       "2      3  BERNARD ARNAULT & FAMILY                    76.0   71   \n",
       "3      4            WARREN BUFFETT                    67.5   89   \n",
       "4      5             LARRY ELLISON                    59.0   75   \n",
       "..   ...                       ...                     ...  ...   \n",
       "95    96                  LI SHUFU                    12.4   56   \n",
       "96    96   HASSO PLATTNER & FAMILY                    12.4   76   \n",
       "97    98      LIU YONGHAO & FAMILY                    12.3   68   \n",
       "98    98             STEFAN QUANDT                    12.3   53   \n",
       "99   100               KEN GRIFFIN                    12.1   51   \n",
       "\n",
       "          country              source             industries  \n",
       "0   United States              Amazon             Technology  \n",
       "1   United States           Microsoft             Technology  \n",
       "2          France                LVMH       Fashion & Retail  \n",
       "3   United States  Berkshire Hathaway  Finance & Investments  \n",
       "4   United States            software             Technology  \n",
       "..            ...                 ...                    ...  \n",
       "95          China         automobiles             Automotive  \n",
       "96        Germany            software             Technology  \n",
       "97          China        agribusiness                Service  \n",
       "98        Germany                 BMW             Automotive  \n",
       "99  United States         hedge funds  Finance & Investments  \n",
       "\n",
       "[100 rows x 7 columns]"
      ]
     },
     "execution_count": 51,
     "metadata": {},
     "output_type": "execute_result"
    }
   ],
   "source": [
    "richest"
   ]
  },
  {
   "cell_type": "code",
   "execution_count": 52,
   "id": "79dc3162",
   "metadata": {},
   "outputs": [],
   "source": [
    "nums = [2, 4, 6, 12, 34, 89, 97, 125, 324, 982, 1024]"
   ]
  },
  {
   "cell_type": "code",
   "execution_count": 64,
   "id": "beb72a60",
   "metadata": {},
   "outputs": [],
   "source": [
    "def per (x,y):\n",
    "    if y >0:\n",
    "        perc=np.percentile(x,y)\n",
    "    if y <=0:\n",
    "        perc = print (\"Bro its a error\")\n",
    "    return perc"
   ]
  },
  {
   "cell_type": "code",
   "execution_count": 65,
   "id": "d07a72ca",
   "metadata": {},
   "outputs": [
    {
     "name": "stdout",
     "output_type": "stream",
     "text": [
      "Bro its a error\n"
     ]
    }
   ],
   "source": [
    "per(nums, 0)"
   ]
  },
  {
   "cell_type": "code",
   "execution_count": 74,
   "id": "26f1587a",
   "metadata": {},
   "outputs": [],
   "source": [
    "def quartiles(nums):\n",
    "    y = np.percentile(nums,50)\n",
    "    return y\n",
    "    pass"
   ]
  },
  {
   "cell_type": "code",
   "execution_count": 75,
   "id": "14accda5",
   "metadata": {},
   "outputs": [],
   "source": [
    "nums = [1, 3, 3, 4, 5, 6, 6, 7, 8, 8]"
   ]
  },
  {
   "cell_type": "code",
   "execution_count": 76,
   "id": "0ecc0841",
   "metadata": {},
   "outputs": [
    {
     "data": {
      "text/plain": [
       "5.5"
      ]
     },
     "execution_count": 76,
     "metadata": {},
     "output_type": "execute_result"
    }
   ],
   "source": [
    "quartiles(nums)"
   ]
  },
  {
   "cell_type": "code",
   "execution_count": 71,
   "id": "b3d4a31d",
   "metadata": {},
   "outputs": [],
   "source": [
    "import numpy as np\n",
    "import pandas as pd\n",
    "import seaborn\n",
    "from urllib.request import urlretrieve"
   ]
  },
  {
   "cell_type": "code",
   "execution_count": 78,
   "id": "5d39714c",
   "metadata": {},
   "outputs": [
    {
     "data": {
      "image/png": "[encoded data removed]",
      "text/plain": [
       "<Figure size 432x288 with 1 Axes>"
      ]
     },
     "metadata": {
      "needs_background": "light"
     },
     "output_type": "display_data"
    }
   ],
   "source": [
    "nums = [1, 3, 3, 4, 5, 6, 6, 7, 8, 8]\n",
    "\n",
    "seaborn.boxplot(x=nums).set_title('Range and Quartiles');"
   ]
  },
  {
   "cell_type": "code",
   "execution_count": 19,
   "id": "f0b2f56e",
   "metadata": {},
   "outputs": [],
   "source": [
    "def count_occurrences(elements):\n",
    "    # Create a dictionary of results\n",
    "    counts = {}\n",
    "    # Go over each element in the list\n",
    "    for element in elements:\n",
    "        # Check we already have an entry for it\n",
    "        if element in counts:\n",
    "            # Increment the count\n",
    "            counts[element] += 1\n",
    "        else:\n",
    "            # If not present already, create an entry\n",
    "            counts[element] = 1\n",
    "    # Return the dictionary of results\n",
    "    return counts"
   ]
  },
  {
   "cell_type": "code",
   "execution_count": 20,
   "id": "38fd1e23",
   "metadata": {},
   "outputs": [],
   "source": [
    "nums1 = [1, 2, 3, 4, 4, 4, 4, 4, 5, 6, 7, 7, 7, 8]\n",
    "nums2 = [3, 1, 4, 1, 5, 4] \n",
    "vals1 = ['red', 'green', 'blue', 'green', 'red', 'green', 'green']"
   ]
  },
  {
   "cell_type": "code",
   "execution_count": 21,
   "id": "c62b7820",
   "metadata": {},
   "outputs": [
    {
     "data": {
      "text/plain": [
       "{'red': 2, 'green': 4, 'blue': 1}"
      ]
     },
     "execution_count": 21,
     "metadata": {},
     "output_type": "execute_result"
    }
   ],
   "source": [
    "count_occurrences(vals1)"
   ]
  },
  {
   "cell_type": "code",
   "execution_count": 18,
   "id": "20a2cb86",
   "metadata": {},
   "outputs": [
    {
     "data": {
      "text/plain": [
       "{}"
      ]
     },
     "execution_count": 18,
     "metadata": {},
     "output_type": "execute_result"
    }
   ],
   "source": [
    "count_occurrences(nums1)"
   ]
  },
  {
   "cell_type": "code",
   "execution_count": 76,
   "id": "7a6a0d10",
   "metadata": {},
   "outputs": [],
   "source": [
    "def mode(elements):\n",
    "    # Count the no. of occurences of each value\n",
    "    counts = count_occurrences(elements)\n",
    "    # Get the maximum no. of occurences of any value\n",
    "    max_count = max(counts.values())\n",
    "    # Make a list of the matching elements\n",
    "    results = []\n",
    "    # Iterate over unique elements\n",
    "    for element in counts:\n",
    "        # Check if its count matches max_count\n",
    "        if counts[element] == max_count:\n",
    "            # Add it to results\n",
    "            results.append(element)\n",
    "    return results"
   ]
  },
  {
   "cell_type": "code",
   "execution_count": 77,
   "id": "2a766597",
   "metadata": {},
   "outputs": [
    {
     "data": {
      "text/plain": [
       "[4]"
      ]
     },
     "execution_count": 77,
     "metadata": {},
     "output_type": "execute_result"
    }
   ],
   "source": [
    "mode(nums1)"
   ]
  },
  {
   "cell_type": "code",
   "execution_count": 78,
   "id": "ad5a0ee5",
   "metadata": {},
   "outputs": [
    {
     "data": {
      "text/plain": [
       "['green']"
      ]
     },
     "execution_count": 78,
     "metadata": {},
     "output_type": "execute_result"
    }
   ],
   "source": [
    "mode(vals1)"
   ]
  },
  {
   "cell_type": "code",
   "execution_count": 79,
   "id": "3aa12ac0",
   "metadata": {},
   "outputs": [],
   "source": [
    "def compute_growth(x):\n",
    "    th = {}\n",
    "    x = 0\n",
    "    for i in x:\n",
    "        th = ((i-(i-1))/(i-1))\n",
    "        #else:\n",
    "            #print (error)\n",
    "    return th\n",
    "        "
   ]
  },
  {
   "cell_type": "code",
   "execution_count": 80,
   "id": "b386dbce",
   "metadata": {},
   "outputs": [],
   "source": [
    "users = [31310, 34048, 39267, 43066, 50765, 57838]"
   ]
  },
  {
   "cell_type": "code",
   "execution_count": 75,
   "id": "d17a53ad",
   "metadata": {},
   "outputs": [
    {
     "ename": "TypeError",
     "evalue": "'int' object is not iterable",
     "output_type": "error",
     "traceback": [
      "\u001b[1;31m---------------------------------------------------------------------------\u001b[0m",
      "\u001b[1;31mTypeError\u001b[0m                                 Traceback (most recent call last)",
      "\u001b[1;32m~\\AppData\\Local\\Temp/ipykernel_14732/1102002080.py\u001b[0m in \u001b[0;36m<module>\u001b[1;34m\u001b[0m\n\u001b[1;32m----> 1\u001b[1;33m \u001b[0mgrowth\u001b[0m \u001b[1;33m=\u001b[0m \u001b[0mcompute_growth\u001b[0m\u001b[1;33m(\u001b[0m\u001b[0musers\u001b[0m\u001b[1;33m)\u001b[0m\u001b[1;33m\u001b[0m\u001b[1;33m\u001b[0m\u001b[0m\n\u001b[0m\u001b[0;32m      2\u001b[0m \u001b[0mgrowth\u001b[0m\u001b[1;33m\u001b[0m\u001b[1;33m\u001b[0m\u001b[0m\n",
      "\u001b[1;32m~\\AppData\\Local\\Temp/ipykernel_14732/239889313.py\u001b[0m in \u001b[0;36mcompute_growth\u001b[1;34m(x)\u001b[0m\n\u001b[0;32m      2\u001b[0m     \u001b[0mth\u001b[0m \u001b[1;33m=\u001b[0m \u001b[1;33m{\u001b[0m\u001b[1;33m}\u001b[0m\u001b[1;33m\u001b[0m\u001b[1;33m\u001b[0m\u001b[0m\n\u001b[0;32m      3\u001b[0m     \u001b[0mx\u001b[0m \u001b[1;33m=\u001b[0m \u001b[1;36m0\u001b[0m\u001b[1;33m\u001b[0m\u001b[1;33m\u001b[0m\u001b[0m\n\u001b[1;32m----> 4\u001b[1;33m     \u001b[1;32mfor\u001b[0m \u001b[0mi\u001b[0m \u001b[1;32min\u001b[0m \u001b[0mx\u001b[0m\u001b[1;33m:\u001b[0m\u001b[1;33m\u001b[0m\u001b[1;33m\u001b[0m\u001b[0m\n\u001b[0m\u001b[0;32m      5\u001b[0m         \u001b[0mth\u001b[0m \u001b[1;33m=\u001b[0m \u001b[1;33m(\u001b[0m\u001b[1;33m(\u001b[0m\u001b[0mi\u001b[0m\u001b[1;33m-\u001b[0m\u001b[1;33m(\u001b[0m\u001b[0mi\u001b[0m\u001b[1;33m-\u001b[0m\u001b[1;36m1\u001b[0m\u001b[1;33m)\u001b[0m\u001b[1;33m)\u001b[0m\u001b[1;33m/\u001b[0m\u001b[1;33m(\u001b[0m\u001b[0mi\u001b[0m\u001b[1;33m-\u001b[0m\u001b[1;36m1\u001b[0m\u001b[1;33m)\u001b[0m\u001b[1;33m)\u001b[0m\u001b[1;33m\u001b[0m\u001b[1;33m\u001b[0m\u001b[0m\n\u001b[0;32m      6\u001b[0m         \u001b[1;31m#else:\u001b[0m\u001b[1;33m\u001b[0m\u001b[1;33m\u001b[0m\u001b[0m\n",
      "\u001b[1;31mTypeError\u001b[0m: 'int' object is not iterable"
     ]
    }
   ],
   "source": [
    "growth = compute_growth(users)\n",
    "growth"
   ]
  },
  {
   "cell_type": "code",
   "execution_count": 81,
   "id": "68e339d3",
   "metadata": {},
   "outputs": [],
   "source": [
    "def compute_growth(nums):\n",
    "    return list(np.diff(nums) / nums[:-1])"
   ]
  },
  {
   "cell_type": "code",
   "execution_count": 82,
   "id": "42738f54",
   "metadata": {},
   "outputs": [
    {
     "data": {
      "text/plain": [
       "[0.08744809964867455,\n",
       " 0.15328359962406016,\n",
       " 0.0967479053658288,\n",
       " 0.17877211721543676,\n",
       " 0.13932827735644637]"
      ]
     },
     "execution_count": 82,
     "metadata": {},
     "output_type": "execute_result"
    }
   ],
   "source": [
    "growth = compute_growth(users)\n",
    "growth"
   ]
  },
  {
   "cell_type": "code",
   "execution_count": 83,
   "id": "84e476a9",
   "metadata": {},
   "outputs": [],
   "source": [
    "def average_growth(rates):\n",
    "    return np.prod([1+rate for rate in rates])**(1/len(rates)) - 1"
   ]
  },
  {
   "cell_type": "code",
   "execution_count": 85,
   "id": "fc6b4079",
   "metadata": {},
   "outputs": [
    {
     "data": {
      "text/plain": [
       "0.13059234303120548"
      ]
     },
     "execution_count": 85,
     "metadata": {},
     "output_type": "execute_result"
    }
   ],
   "source": [
    "avg_growth = average_growth(growth)\n",
    "avg_growth"
   ]
  },
  {
   "cell_type": "code",
   "execution_count": 86,
   "id": "21e7873a",
   "metadata": {},
   "outputs": [],
   "source": [
    "def project_forward(current, rate, periods):\n",
    "    return current * ((1+rate)**periods)"
   ]
  },
  {
   "cell_type": "code",
   "execution_count": 87,
   "id": "520a63fa",
   "metadata": {},
   "outputs": [
    {
     "data": {
      "text/html": [
       "<div>\n",
       "<style scoped>\n",
       "    .dataframe tbody tr th:only-of-type {\n",
       "        vertical-align: middle;\n",
       "    }\n",
       "\n",
       "    .dataframe tbody tr th {\n",
       "        vertical-align: top;\n",
       "    }\n",
       "\n",
       "    .dataframe thead th {\n",
       "        text-align: right;\n",
       "    }\n",
       "</style>\n",
       "<table border=\"1\" class=\"dataframe\">\n",
       "  <thead>\n",
       "    <tr style=\"text-align: right;\">\n",
       "      <th></th>\n",
       "      <th>state</th>\n",
       "      <th>population</th>\n",
       "      <th>gdp_per_capita</th>\n",
       "    </tr>\n",
       "  </thead>\n",
       "  <tbody>\n",
       "    <tr>\n",
       "      <th>0</th>\n",
       "      <td>Andaman &amp; Nicobar</td>\n",
       "      <td>380581</td>\n",
       "      <td>2890</td>\n",
       "    </tr>\n",
       "    <tr>\n",
       "      <th>1</th>\n",
       "      <td>Andhra Pradesh</td>\n",
       "      <td>49577103</td>\n",
       "      <td>2824</td>\n",
       "    </tr>\n",
       "    <tr>\n",
       "      <th>2</th>\n",
       "      <td>Arunachal Pradesh</td>\n",
       "      <td>1383727</td>\n",
       "      <td>2457</td>\n",
       "    </tr>\n",
       "    <tr>\n",
       "      <th>3</th>\n",
       "      <td>Assam</td>\n",
       "      <td>31205576</td>\n",
       "      <td>1410</td>\n",
       "    </tr>\n",
       "    <tr>\n",
       "      <th>4</th>\n",
       "      <td>Bihar</td>\n",
       "      <td>104099452</td>\n",
       "      <td>826</td>\n",
       "    </tr>\n",
       "    <tr>\n",
       "      <th>5</th>\n",
       "      <td>Chandigarh</td>\n",
       "      <td>1055450</td>\n",
       "      <td>5590</td>\n",
       "    </tr>\n",
       "    <tr>\n",
       "      <th>6</th>\n",
       "      <td>Chhattisgarh</td>\n",
       "      <td>25545198</td>\n",
       "      <td>1801</td>\n",
       "    </tr>\n",
       "    <tr>\n",
       "      <th>7</th>\n",
       "      <td>Delhi</td>\n",
       "      <td>16787941</td>\n",
       "      <td>7148</td>\n",
       "    </tr>\n",
       "    <tr>\n",
       "      <th>8</th>\n",
       "      <td>Goa</td>\n",
       "      <td>1458545</td>\n",
       "      <td>6856</td>\n",
       "    </tr>\n",
       "    <tr>\n",
       "      <th>9</th>\n",
       "      <td>Gujarat</td>\n",
       "      <td>60439692</td>\n",
       "      <td>3475</td>\n",
       "    </tr>\n",
       "    <tr>\n",
       "      <th>10</th>\n",
       "      <td>Haryana</td>\n",
       "      <td>25351462</td>\n",
       "      <td>4733</td>\n",
       "    </tr>\n",
       "    <tr>\n",
       "      <th>11</th>\n",
       "      <td>Himachal Pradesh</td>\n",
       "      <td>6864602</td>\n",
       "      <td>3351</td>\n",
       "    </tr>\n",
       "    <tr>\n",
       "      <th>12</th>\n",
       "      <td>Jammu and Kashmir</td>\n",
       "      <td>12541032</td>\n",
       "      <td>1754</td>\n",
       "    </tr>\n",
       "    <tr>\n",
       "      <th>13</th>\n",
       "      <td>Jharkhand</td>\n",
       "      <td>32988134</td>\n",
       "      <td>1394</td>\n",
       "    </tr>\n",
       "    <tr>\n",
       "      <th>14</th>\n",
       "      <td>Karnataka</td>\n",
       "      <td>61095297</td>\n",
       "      <td>3928</td>\n",
       "    </tr>\n",
       "    <tr>\n",
       "      <th>15</th>\n",
       "      <td>Kerala</td>\n",
       "      <td>33406061</td>\n",
       "      <td>3293</td>\n",
       "    </tr>\n",
       "    <tr>\n",
       "      <th>16</th>\n",
       "      <td>Madhya Pradesh</td>\n",
       "      <td>72626809</td>\n",
       "      <td>1790</td>\n",
       "    </tr>\n",
       "    <tr>\n",
       "      <th>17</th>\n",
       "      <td>Maharashtra</td>\n",
       "      <td>112374333</td>\n",
       "      <td>3560</td>\n",
       "    </tr>\n",
       "    <tr>\n",
       "      <th>18</th>\n",
       "      <td>Manipur</td>\n",
       "      <td>2570390</td>\n",
       "      <td>1517</td>\n",
       "    </tr>\n",
       "    <tr>\n",
       "      <th>19</th>\n",
       "      <td>Meghalaya</td>\n",
       "      <td>2966889</td>\n",
       "      <td>1719</td>\n",
       "    </tr>\n",
       "    <tr>\n",
       "      <th>20</th>\n",
       "      <td>Mizoram</td>\n",
       "      <td>1097206</td>\n",
       "      <td>2461</td>\n",
       "    </tr>\n",
       "    <tr>\n",
       "      <th>21</th>\n",
       "      <td>Nagaland</td>\n",
       "      <td>1978502</td>\n",
       "      <td>1921</td>\n",
       "    </tr>\n",
       "    <tr>\n",
       "      <th>22</th>\n",
       "      <td>Odisha</td>\n",
       "      <td>41974219</td>\n",
       "      <td>1763</td>\n",
       "    </tr>\n",
       "    <tr>\n",
       "      <th>23</th>\n",
       "      <td>Puducherry</td>\n",
       "      <td>1247953</td>\n",
       "      <td>4567</td>\n",
       "    </tr>\n",
       "    <tr>\n",
       "      <th>24</th>\n",
       "      <td>Punjab</td>\n",
       "      <td>27743338</td>\n",
       "      <td>2920</td>\n",
       "    </tr>\n",
       "    <tr>\n",
       "      <th>25</th>\n",
       "      <td>Rajasthan</td>\n",
       "      <td>68548437</td>\n",
       "      <td>2042</td>\n",
       "    </tr>\n",
       "    <tr>\n",
       "      <th>26</th>\n",
       "      <td>Sikkim</td>\n",
       "      <td>610577</td>\n",
       "      <td>7534</td>\n",
       "    </tr>\n",
       "    <tr>\n",
       "      <th>27</th>\n",
       "      <td>Tamil Nadu</td>\n",
       "      <td>72147030</td>\n",
       "      <td>3604</td>\n",
       "    </tr>\n",
       "    <tr>\n",
       "      <th>28</th>\n",
       "      <td>Telangana</td>\n",
       "      <td>35003674</td>\n",
       "      <td>4000</td>\n",
       "    </tr>\n",
       "    <tr>\n",
       "      <th>29</th>\n",
       "      <td>Tripura</td>\n",
       "      <td>3673917</td>\n",
       "      <td>1769</td>\n",
       "    </tr>\n",
       "    <tr>\n",
       "      <th>30</th>\n",
       "      <td>Uttar Pradesh</td>\n",
       "      <td>199812341</td>\n",
       "      <td>1251</td>\n",
       "    </tr>\n",
       "    <tr>\n",
       "      <th>31</th>\n",
       "      <td>Uttarakhand</td>\n",
       "      <td>10086292</td>\n",
       "      <td>3371</td>\n",
       "    </tr>\n",
       "    <tr>\n",
       "      <th>32</th>\n",
       "      <td>West Bengal</td>\n",
       "      <td>91276115</td>\n",
       "      <td>1972</td>\n",
       "    </tr>\n",
       "  </tbody>\n",
       "</table>\n",
       "</div>"
      ],
      "text/plain": [
       "                state  population  gdp_per_capita\n",
       "0   Andaman & Nicobar      380581            2890\n",
       "1      Andhra Pradesh    49577103            2824\n",
       "2   Arunachal Pradesh     1383727            2457\n",
       "3               Assam    31205576            1410\n",
       "4               Bihar   104099452             826\n",
       "5          Chandigarh     1055450            5590\n",
       "6        Chhattisgarh    25545198            1801\n",
       "7               Delhi    16787941            7148\n",
       "8                 Goa     1458545            6856\n",
       "9             Gujarat    60439692            3475\n",
       "10            Haryana    25351462            4733\n",
       "11   Himachal Pradesh     6864602            3351\n",
       "12  Jammu and Kashmir    12541032            1754\n",
       "13          Jharkhand    32988134            1394\n",
       "14          Karnataka    61095297            3928\n",
       "15             Kerala    33406061            3293\n",
       "16     Madhya Pradesh    72626809            1790\n",
       "17        Maharashtra   112374333            3560\n",
       "18            Manipur     2570390            1517\n",
       "19          Meghalaya     2966889            1719\n",
       "20            Mizoram     1097206            2461\n",
       "21           Nagaland     1978502            1921\n",
       "22             Odisha    41974219            1763\n",
       "23         Puducherry     1247953            4567\n",
       "24             Punjab    27743338            2920\n",
       "25          Rajasthan    68548437            2042\n",
       "26             Sikkim      610577            7534\n",
       "27         Tamil Nadu    72147030            3604\n",
       "28          Telangana    35003674            4000\n",
       "29            Tripura     3673917            1769\n",
       "30      Uttar Pradesh   199812341            1251\n",
       "31        Uttarakhand    10086292            3371\n",
       "32        West Bengal    91276115            1972"
      ]
     },
     "execution_count": 87,
     "metadata": {},
     "output_type": "execute_result"
    }
   ],
   "source": [
    "state_gdp_url = 'https://gist.githubusercontent.com/aakashns/b83c25b654bdf20c085382f3d28bb15c/raw/046a19a942ef5a96d33c2e7b2dc5a9ce1a35e868/india_per_capita_gdp_by_state.csv'\n",
    "\n",
    "import pandas as pd\n",
    "\n",
    "dataframe = pd.read_csv(state_gdp_url)\n",
    "dataframe"
   ]
  },
  {
   "cell_type": "code",
   "execution_count": 94,
   "id": "1763e7a0",
   "metadata": {},
   "outputs": [
    {
     "data": {
      "text/html": [
       "<div>\n",
       "<style scoped>\n",
       "    .dataframe tbody tr th:only-of-type {\n",
       "        vertical-align: middle;\n",
       "    }\n",
       "\n",
       "    .dataframe tbody tr th {\n",
       "        vertical-align: top;\n",
       "    }\n",
       "\n",
       "    .dataframe thead th {\n",
       "        text-align: right;\n",
       "    }\n",
       "</style>\n",
       "<table border=\"1\" class=\"dataframe\">\n",
       "  <thead>\n",
       "    <tr style=\"text-align: right;\">\n",
       "      <th></th>\n",
       "      <th>state</th>\n",
       "      <th>population</th>\n",
       "      <th>gdp_per_capita</th>\n",
       "    </tr>\n",
       "  </thead>\n",
       "  <tbody>\n",
       "    <tr>\n",
       "      <th>0</th>\n",
       "      <td>Andaman &amp; Nicobar</td>\n",
       "      <td>380581</td>\n",
       "      <td>2890</td>\n",
       "    </tr>\n",
       "    <tr>\n",
       "      <th>1</th>\n",
       "      <td>Andhra Pradesh</td>\n",
       "      <td>49577103</td>\n",
       "      <td>2824</td>\n",
       "    </tr>\n",
       "    <tr>\n",
       "      <th>2</th>\n",
       "      <td>Arunachal Pradesh</td>\n",
       "      <td>1383727</td>\n",
       "      <td>2457</td>\n",
       "    </tr>\n",
       "    <tr>\n",
       "      <th>3</th>\n",
       "      <td>Assam</td>\n",
       "      <td>31205576</td>\n",
       "      <td>1410</td>\n",
       "    </tr>\n",
       "    <tr>\n",
       "      <th>4</th>\n",
       "      <td>Bihar</td>\n",
       "      <td>104099452</td>\n",
       "      <td>826</td>\n",
       "    </tr>\n",
       "  </tbody>\n",
       "</table>\n",
       "</div>"
      ],
      "text/plain": [
       "               state  population  gdp_per_capita\n",
       "0  Andaman & Nicobar      380581            2890\n",
       "1     Andhra Pradesh    49577103            2824\n",
       "2  Arunachal Pradesh     1383727            2457\n",
       "3              Assam    31205576            1410\n",
       "4              Bihar   104099452             826"
      ]
     },
     "execution_count": 94,
     "metadata": {},
     "output_type": "execute_result"
    }
   ],
   "source": [
    "dataframe.head()"
   ]
  },
  {
   "cell_type": "code",
   "execution_count": 92,
   "id": "775054e1",
   "metadata": {},
   "outputs": [
    {
     "data": {
      "text/plain": [
       "2948724668255"
      ]
     },
     "execution_count": 92,
     "metadata": {},
     "output_type": "execute_result"
    }
   ],
   "source": [
    "GDP_each_state = [dataframe['population'] * dataframe['gdp_per_capita']]\n",
    "GDP_country = np.sum(GDP_each_state)\n",
    "GDP_country"
   ]
  },
  {
   "cell_type": "code",
   "execution_count": 96,
   "id": "c6d529ce",
   "metadata": {},
   "outputs": [
    {
     "data": {
      "text/plain": [
       "0      380581\n",
       "1    49577103\n",
       "Name: population, dtype: int64"
      ]
     },
     "execution_count": 96,
     "metadata": {},
     "output_type": "execute_result"
    }
   ],
   "source": [
    "population = dataframe['population']\n",
    "gdp_per_capita = dataframe['gdp_per_capita']\n",
    "population[:2]"
   ]
  },
  {
   "cell_type": "code",
   "execution_count": 97,
   "id": "c3aa7c12",
   "metadata": {},
   "outputs": [
    {
     "data": {
      "text/plain": [
       "1209917875"
      ]
     },
     "execution_count": 97,
     "metadata": {},
     "output_type": "execute_result"
    }
   ],
   "source": [
    "population_country = np.sum(population)\n",
    "population_country"
   ]
  },
  {
   "cell_type": "code",
   "execution_count": 98,
   "id": "2efd7ef2",
   "metadata": {},
   "outputs": [
    {
     "data": {
      "text/plain": [
       "2437.127948254339"
      ]
     },
     "execution_count": 98,
     "metadata": {},
     "output_type": "execute_result"
    }
   ],
   "source": [
    "GDP_per_capita_country = GDP_country/population_country\n",
    "GDP_per_capita_country"
   ]
  },
  {
   "cell_type": "code",
   "execution_count": 104,
   "id": "8d398fa7",
   "metadata": {},
   "outputs": [],
   "source": [
    "def quartiles(nums):\n",
    "    a = np.percentile(nums,25)\n",
    "    b = np.percentile(nums,50)\n",
    "    c = np.percentile(nums,75)\n",
    "    \n",
    "    return (a, b, c)"
   ]
  },
  {
   "cell_type": "code",
   "execution_count": 100,
   "id": "3598fd5f",
   "metadata": {},
   "outputs": [
    {
     "data": {
      "text/html": [
       "<div>\n",
       "<style scoped>\n",
       "    .dataframe tbody tr th:only-of-type {\n",
       "        vertical-align: middle;\n",
       "    }\n",
       "\n",
       "    .dataframe tbody tr th {\n",
       "        vertical-align: top;\n",
       "    }\n",
       "\n",
       "    .dataframe thead th {\n",
       "        text-align: right;\n",
       "    }\n",
       "</style>\n",
       "<table border=\"1\" class=\"dataframe\">\n",
       "  <thead>\n",
       "    <tr style=\"text-align: right;\">\n",
       "      <th></th>\n",
       "      <th>symbol</th>\n",
       "      <th>return</th>\n",
       "    </tr>\n",
       "  </thead>\n",
       "  <tbody>\n",
       "    <tr>\n",
       "      <th>0</th>\n",
       "      <td>KRNT</td>\n",
       "      <td>57.38</td>\n",
       "    </tr>\n",
       "    <tr>\n",
       "      <th>1</th>\n",
       "      <td>TCX</td>\n",
       "      <td>23.95</td>\n",
       "    </tr>\n",
       "    <tr>\n",
       "      <th>2</th>\n",
       "      <td>IIN</td>\n",
       "      <td>39.05</td>\n",
       "    </tr>\n",
       "    <tr>\n",
       "      <th>3</th>\n",
       "      <td>ATHM</td>\n",
       "      <td>37.19</td>\n",
       "    </tr>\n",
       "    <tr>\n",
       "      <th>4</th>\n",
       "      <td>SITO</td>\n",
       "      <td>44.31</td>\n",
       "    </tr>\n",
       "  </tbody>\n",
       "</table>\n",
       "</div>"
      ],
      "text/plain": [
       "  symbol  return\n",
       "0   KRNT   57.38\n",
       "1    TCX   23.95\n",
       "2    IIN   39.05\n",
       "3   ATHM   37.19\n",
       "4   SITO   44.31"
      ]
     },
     "execution_count": 100,
     "metadata": {},
     "output_type": "execute_result"
    }
   ],
   "source": [
    "stocks_url = 'https://gist.githubusercontent.com/aakashns/7d96d0b9af1c897fe30d1e782314f68e/raw/dc30a5d3e70683407fd16a4a14c56eb05ae82bcc/stock_returns.csv'\n",
    "stocks_df = pd.read_csv(stocks_url)\n",
    "stocks_df.head()"
   ]
  },
  {
   "cell_type": "code",
   "execution_count": 105,
   "id": "983041d9",
   "metadata": {},
   "outputs": [
    {
     "data": {
      "text/plain": [
       "(28.604999999999997, 38.14, 53.5125)"
      ]
     },
     "execution_count": 105,
     "metadata": {},
     "output_type": "execute_result"
    }
   ],
   "source": [
    "returns = stocks_df['return']\n",
    "quartiles(returns)"
   ]
  },
  {
   "cell_type": "code",
   "execution_count": 108,
   "id": "94755b0a",
   "metadata": {},
   "outputs": [],
   "source": [
    "def datarange(nums):\n",
    "    return min(nums), max(nums)"
   ]
  },
  {
   "cell_type": "code",
   "execution_count": 109,
   "id": "4f37cb23",
   "metadata": {},
   "outputs": [
    {
     "data": {
      "text/plain": [
       "(23.95, 338.36)"
      ]
     },
     "execution_count": 109,
     "metadata": {},
     "output_type": "execute_result"
    }
   ],
   "source": [
    "datarange(returns)"
   ]
  },
  {
   "cell_type": "code",
   "execution_count": 110,
   "id": "390731b3",
   "metadata": {},
   "outputs": [
    {
     "name": "stdout",
     "output_type": "stream",
     "text": [
      "Quartiles:  (3.25, 5.5, 6.75) Ranges:  (1, 8)\n"
     ]
    },
    {
     "data": {
      "image/png": "[encoded data removed]",
      "text/plain": [
       "<Figure size 432x288 with 1 Axes>"
      ]
     },
     "metadata": {
      "needs_background": "light"
     },
     "output_type": "display_data"
    }
   ],
   "source": [
    "nums = [1, 3, 3, 4, 5, 6, 6, 7, 8, 8]\n",
    "\n",
    "print('Quartiles: ',quartiles(nums), 'Ranges: ',datarange(nums))\n",
    "\n",
    "seaborn.boxplot(x=nums).set_title('Range and Quartiles');"
   ]
  },
  {
   "cell_type": "code",
   "execution_count": 111,
   "id": "3e85f575",
   "metadata": {},
   "outputs": [
    {
     "ename": "NameError",
     "evalue": "name 'net_worth' is not defined",
     "output_type": "error",
     "traceback": [
      "\u001b[1;31m---------------------------------------------------------------------------\u001b[0m",
      "\u001b[1;31mNameError\u001b[0m                                 Traceback (most recent call last)",
      "\u001b[1;32m~\\AppData\\Local\\Temp/ipykernel_14732/2744991038.py\u001b[0m in \u001b[0;36m<module>\u001b[1;34m\u001b[0m\n\u001b[1;32m----> 1\u001b[1;33m \u001b[0mprint\u001b[0m\u001b[1;33m(\u001b[0m\u001b[1;34m'Quartiles: '\u001b[0m\u001b[1;33m,\u001b[0m\u001b[0mquartiles\u001b[0m\u001b[1;33m(\u001b[0m\u001b[0mnet_worth\u001b[0m\u001b[1;33m)\u001b[0m\u001b[1;33m,\u001b[0m \u001b[1;34m'Ranges: '\u001b[0m\u001b[1;33m,\u001b[0m\u001b[0mdatarange\u001b[0m\u001b[1;33m(\u001b[0m\u001b[0mnet_worth\u001b[0m\u001b[1;33m)\u001b[0m\u001b[1;33m)\u001b[0m\u001b[1;33m\u001b[0m\u001b[1;33m\u001b[0m\u001b[0m\n\u001b[0m\u001b[0;32m      2\u001b[0m \u001b[0mseaborn\u001b[0m\u001b[1;33m.\u001b[0m\u001b[0mboxplot\u001b[0m\u001b[1;33m(\u001b[0m\u001b[0mx\u001b[0m \u001b[1;33m=\u001b[0m \u001b[0mnet_worth\u001b[0m\u001b[1;33m)\u001b[0m\u001b[1;33m.\u001b[0m\u001b[0mset_title\u001b[0m\u001b[1;33m(\u001b[0m\u001b[1;34m'Net worth distribution and spread'\u001b[0m\u001b[1;33m)\u001b[0m\u001b[1;33m\u001b[0m\u001b[1;33m\u001b[0m\u001b[0m\n",
      "\u001b[1;31mNameError\u001b[0m: name 'net_worth' is not defined"
     ]
    }
   ],
   "source": [
    "print('Quartiles: ',quartiles(net_worth), 'Ranges: ',datarange(net_worth))\n",
    "seaborn.boxplot(x = net_worth).set_title('Net worth distribution and spread')"
   ]
  },
  {
   "cell_type": "code",
   "execution_count": 112,
   "id": "bfb78bf8",
   "metadata": {},
   "outputs": [],
   "source": [
    "def count_occurrences(elements):\n",
    "    counts = {}\n",
    "    \n",
    "    for element in elements:\n",
    "        if element in counts:\n",
    "            counts[element] += 1\n",
    "        else:\n",
    "            \n",
    "            counts[element] = 1\n",
    "    return counts"
   ]
  },
  {
   "cell_type": "code",
   "execution_count": 113,
   "id": "271bcb2b",
   "metadata": {},
   "outputs": [],
   "source": [
    "def mode(elements):\n",
    "    \n",
    "    counts = count_occurrences(elements)\n",
    "    max_count = max(counts.values())\n",
    "    \n",
    "    results = []\n",
    "    for element in counts:\n",
    "        \n",
    "        if counts[element] == max_count:\n",
    "            \n",
    "            results.append(element)\n",
    "    return results"
   ]
  },
  {
   "cell_type": "code",
   "execution_count": 114,
   "id": "81d2a3d0",
   "metadata": {},
   "outputs": [
    {
     "data": {
      "text/html": [
       "<div>\n",
       "<style scoped>\n",
       "    .dataframe tbody tr th:only-of-type {\n",
       "        vertical-align: middle;\n",
       "    }\n",
       "\n",
       "    .dataframe tbody tr th {\n",
       "        vertical-align: top;\n",
       "    }\n",
       "\n",
       "    .dataframe thead th {\n",
       "        text-align: right;\n",
       "    }\n",
       "</style>\n",
       "<table border=\"1\" class=\"dataframe\">\n",
       "  <thead>\n",
       "    <tr style=\"text-align: right;\">\n",
       "      <th></th>\n",
       "      <th>friend_name</th>\n",
       "      <th>movie</th>\n",
       "    </tr>\n",
       "  </thead>\n",
       "  <tbody>\n",
       "    <tr>\n",
       "      <th>0</th>\n",
       "      <td>Bruce</td>\n",
       "      <td>Interstellar</td>\n",
       "    </tr>\n",
       "    <tr>\n",
       "      <th>1</th>\n",
       "      <td>Jane</td>\n",
       "      <td>The Prestige</td>\n",
       "    </tr>\n",
       "    <tr>\n",
       "      <th>2</th>\n",
       "      <td>Samir</td>\n",
       "      <td>Mememto</td>\n",
       "    </tr>\n",
       "    <tr>\n",
       "      <th>3</th>\n",
       "      <td>Bruce</td>\n",
       "      <td>Tenet</td>\n",
       "    </tr>\n",
       "    <tr>\n",
       "      <th>4</th>\n",
       "      <td>Samir</td>\n",
       "      <td>The Dark Knight</td>\n",
       "    </tr>\n",
       "    <tr>\n",
       "      <th>5</th>\n",
       "      <td>Satvik</td>\n",
       "      <td>Interstellar</td>\n",
       "    </tr>\n",
       "    <tr>\n",
       "      <th>6</th>\n",
       "      <td>Judy</td>\n",
       "      <td>Tenet</td>\n",
       "    </tr>\n",
       "    <tr>\n",
       "      <th>7</th>\n",
       "      <td>Bruce</td>\n",
       "      <td>The Prestige</td>\n",
       "    </tr>\n",
       "    <tr>\n",
       "      <th>8</th>\n",
       "      <td>Satvik</td>\n",
       "      <td>The Dark Knight</td>\n",
       "    </tr>\n",
       "    <tr>\n",
       "      <th>9</th>\n",
       "      <td>Jane</td>\n",
       "      <td>Tenet</td>\n",
       "    </tr>\n",
       "    <tr>\n",
       "      <th>10</th>\n",
       "      <td>Bruce</td>\n",
       "      <td>The Dark Knight</td>\n",
       "    </tr>\n",
       "    <tr>\n",
       "      <th>11</th>\n",
       "      <td>Bruce</td>\n",
       "      <td>The Prestige</td>\n",
       "    </tr>\n",
       "    <tr>\n",
       "      <th>12</th>\n",
       "      <td>Judy</td>\n",
       "      <td>The Dark Knight</td>\n",
       "    </tr>\n",
       "    <tr>\n",
       "      <th>13</th>\n",
       "      <td>Samir</td>\n",
       "      <td>Memento</td>\n",
       "    </tr>\n",
       "    <tr>\n",
       "      <th>14</th>\n",
       "      <td>Samir</td>\n",
       "      <td>Tenet</td>\n",
       "    </tr>\n",
       "    <tr>\n",
       "      <th>15</th>\n",
       "      <td>Jane</td>\n",
       "      <td>The Dark Knight</td>\n",
       "    </tr>\n",
       "    <tr>\n",
       "      <th>16</th>\n",
       "      <td>Satvik</td>\n",
       "      <td>Memento</td>\n",
       "    </tr>\n",
       "    <tr>\n",
       "      <th>17</th>\n",
       "      <td>Judy</td>\n",
       "      <td>The Prestige</td>\n",
       "    </tr>\n",
       "    <tr>\n",
       "      <th>18</th>\n",
       "      <td>Jane</td>\n",
       "      <td>Memento</td>\n",
       "    </tr>\n",
       "    <tr>\n",
       "      <th>19</th>\n",
       "      <td>Satvik</td>\n",
       "      <td>The Dark Knight</td>\n",
       "    </tr>\n",
       "  </tbody>\n",
       "</table>\n",
       "</div>"
      ],
      "text/plain": [
       "   friend_name            movie\n",
       "0        Bruce     Interstellar\n",
       "1         Jane     The Prestige\n",
       "2        Samir          Mememto\n",
       "3        Bruce            Tenet\n",
       "4        Samir  The Dark Knight\n",
       "5       Satvik     Interstellar\n",
       "6         Judy            Tenet\n",
       "7        Bruce     The Prestige\n",
       "8       Satvik  The Dark Knight\n",
       "9         Jane            Tenet\n",
       "10       Bruce  The Dark Knight\n",
       "11       Bruce     The Prestige\n",
       "12        Judy  The Dark Knight\n",
       "13       Samir          Memento\n",
       "14       Samir            Tenet\n",
       "15        Jane  The Dark Knight\n",
       "16      Satvik          Memento\n",
       "17        Judy     The Prestige\n",
       "18        Jane          Memento\n",
       "19      Satvik  The Dark Knight"
      ]
     },
     "execution_count": 114,
     "metadata": {},
     "output_type": "execute_result"
    }
   ],
   "source": [
    "import pandas as pd\n",
    "movies_url = 'https://gist.githubusercontent.com/aakashns/6b44891b426e90f771d3b147a0bb77d5/raw/9a3b8d89947c2e427b9c68454b3d66e7eae047e3/friends_movies.csv'\n",
    "movies_df = pd.read_csv(movies_url)\n",
    "movies_df"
   ]
  },
  {
   "cell_type": "code",
   "execution_count": 156,
   "id": "a34bf4d7",
   "metadata": {},
   "outputs": [],
   "source": [
    "import numpy as np"
   ]
  },
  {
   "cell_type": "code",
   "execution_count": 119,
   "id": "86738466",
   "metadata": {},
   "outputs": [],
   "source": [
    "def variance(nums):\n",
    "    return np.mean(np.square(np.subtract(nums, np.mean(nums))))"
   ]
  },
  {
   "cell_type": "code",
   "execution_count": 120,
   "id": "5db211c0",
   "metadata": {},
   "outputs": [],
   "source": [
    "import math\n",
    "\n",
    "def standard_deviation(nums):\n",
    "    return math.sqrt(variance(nums))"
   ]
  },
  {
   "cell_type": "code",
   "execution_count": 163,
   "id": "cb76d7bb",
   "metadata": {},
   "outputs": [],
   "source": [
    "\n",
    "def std(nums):\n",
    "    v = np.mean(np.square(np.subtract(nums, np.mean(nums))))\n",
    "    r = math.sqrt((v*(nums)))\n",
    "    return y"
   ]
  },
  {
   "cell_type": "code",
   "execution_count": 161,
   "id": "e9c7aab9",
   "metadata": {},
   "outputs": [],
   "source": [
    "def std(nums):\n",
    "    return np.mean(np.square(np.subtract(nums, np.mean(nums))))\n",
    "    "
   ]
  },
  {
   "cell_type": "code",
   "execution_count": 149,
   "id": "b765f618",
   "metadata": {},
   "outputs": [],
   "source": [
    "nums = [3, 5, 7, 8, 10]"
   ]
  },
  {
   "cell_type": "code",
   "execution_count": 143,
   "id": "1f5949e7",
   "metadata": {},
   "outputs": [
    {
     "data": {
      "text/plain": [
       "2.4166091947189146"
      ]
     },
     "execution_count": 143,
     "metadata": {},
     "output_type": "execute_result"
    }
   ],
   "source": [
    "standard_deviation(nums)"
   ]
  },
  {
   "cell_type": "code",
   "execution_count": 164,
   "id": "7f14cad1",
   "metadata": {},
   "outputs": [
    {
     "ename": "TypeError",
     "evalue": "can't multiply sequence by non-int of type 'numpy.float64'",
     "output_type": "error",
     "traceback": [
      "\u001b[1;31m---------------------------------------------------------------------------\u001b[0m",
      "\u001b[1;31mTypeError\u001b[0m                                 Traceback (most recent call last)",
      "\u001b[1;32m~\\AppData\\Local\\Temp/ipykernel_14732/510560858.py\u001b[0m in \u001b[0;36m<module>\u001b[1;34m\u001b[0m\n\u001b[1;32m----> 1\u001b[1;33m \u001b[0mstd\u001b[0m \u001b[1;33m(\u001b[0m\u001b[0mnums\u001b[0m\u001b[1;33m)\u001b[0m\u001b[1;33m\u001b[0m\u001b[1;33m\u001b[0m\u001b[0m\n\u001b[0m",
      "\u001b[1;32m~\\AppData\\Local\\Temp/ipykernel_14732/3039312990.py\u001b[0m in \u001b[0;36mstd\u001b[1;34m(nums)\u001b[0m\n\u001b[0;32m      1\u001b[0m \u001b[1;32mdef\u001b[0m \u001b[0mstd\u001b[0m\u001b[1;33m(\u001b[0m\u001b[0mnums\u001b[0m\u001b[1;33m)\u001b[0m\u001b[1;33m:\u001b[0m\u001b[1;33m\u001b[0m\u001b[1;33m\u001b[0m\u001b[0m\n\u001b[0;32m      2\u001b[0m     \u001b[0mv\u001b[0m \u001b[1;33m=\u001b[0m \u001b[0mnp\u001b[0m\u001b[1;33m.\u001b[0m\u001b[0mmean\u001b[0m\u001b[1;33m(\u001b[0m\u001b[0mnp\u001b[0m\u001b[1;33m.\u001b[0m\u001b[0msquare\u001b[0m\u001b[1;33m(\u001b[0m\u001b[0mnp\u001b[0m\u001b[1;33m.\u001b[0m\u001b[0msubtract\u001b[0m\u001b[1;33m(\u001b[0m\u001b[0mnums\u001b[0m\u001b[1;33m,\u001b[0m \u001b[0mnp\u001b[0m\u001b[1;33m.\u001b[0m\u001b[0mmean\u001b[0m\u001b[1;33m(\u001b[0m\u001b[0mnums\u001b[0m\u001b[1;33m)\u001b[0m\u001b[1;33m)\u001b[0m\u001b[1;33m)\u001b[0m\u001b[1;33m)\u001b[0m\u001b[1;33m\u001b[0m\u001b[1;33m\u001b[0m\u001b[0m\n\u001b[1;32m----> 3\u001b[1;33m     \u001b[0mr\u001b[0m \u001b[1;33m=\u001b[0m \u001b[0mmath\u001b[0m\u001b[1;33m.\u001b[0m\u001b[0msqrt\u001b[0m\u001b[1;33m(\u001b[0m\u001b[1;33m(\u001b[0m\u001b[0mv\u001b[0m\u001b[1;33m*\u001b[0m\u001b[1;33m(\u001b[0m\u001b[0mnums\u001b[0m\u001b[1;33m)\u001b[0m\u001b[1;33m)\u001b[0m\u001b[1;33m)\u001b[0m\u001b[1;33m\u001b[0m\u001b[1;33m\u001b[0m\u001b[0m\n\u001b[0m\u001b[0;32m      4\u001b[0m     \u001b[1;32mreturn\u001b[0m \u001b[0my\u001b[0m\u001b[1;33m\u001b[0m\u001b[1;33m\u001b[0m\u001b[0m\n",
      "\u001b[1;31mTypeError\u001b[0m: can't multiply sequence by non-int of type 'numpy.float64'"
     ]
    }
   ],
   "source": [
    "std (nums)"
   ]
  },
  {
   "cell_type": "code",
   "execution_count": null,
   "id": "4d141cc9",
   "metadata": {},
   "outputs": [],
   "source": []
  }
 ],
 "metadata": {
  "kernelspec": {
   "display_name": "Python 3 (ipykernel)",
   "language": "python",
   "name": "python3"
  },
  "language_info": {
   "codemirror_mode": {
    "name": "ipython",
    "version": 3
   },
   "file_extension": ".py",
   "mimetype": "text/x-python",
   "name": "python",
   "nbconvert_exporter": "python",
   "pygments_lexer": "ipython3",
   "version": "3.9.7"
  }
 },
 "nbformat": 4,
 "nbformat_minor": 5
}
